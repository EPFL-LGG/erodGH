{
 "cells": [
  {
   "cell_type": "code",
   "execution_count": 1,
   "id": "large-landing",
   "metadata": {},
   "outputs": [
    {
     "name": "stdout",
     "output_type": "stream",
     "text": [
      "Failed to load offscreen viewer: Could not load compiled module; is OffscreenRenderer missing a dependency?\n"
     ]
    }
   ],
   "source": [
    "import sys; sys.path.append('../..'); sys.path.append('..'); sys.path.append('../../python')\n",
    "import numpy as np, elastic_rods, linkage_vis\n",
    "from bending_validation import suppress_stdout as so\n",
    "from linkage_vis import LinkageViewer\n",
    "from elastic_rods import InterleavingType\n",
    "import elasticRodsGH as gh\n"
   ]
  },
  {
   "cell_type": "markdown",
   "id": "2e8b0f60",
   "metadata": {},
   "source": [
    "#### XShell Initialization\n",
    "From Json file generated with GH"
   ]
  },
  {
   "cell_type": "code",
   "execution_count": 2,
   "id": "stuffed-range",
   "metadata": {},
   "outputs": [
    {
     "name": "stderr",
     "output_type": "stream",
     "text": [
      "/Users/suzuki/opt/miniconda3/envs/cshells/lib/python3.9/site-packages/jupyter_client/session.py:716: UserWarning: Message serialization failed with:\n",
      "Out of range float values are not JSON compliant\n",
      "Supporting this message is deprecated in jupyter-client 7, please make sure your message is JSON-compliant\n",
      "  content = self.pack(content)\n"
     ]
    },
    {
     "data": {
      "application/vnd.jupyter.widget-view+json": {
       "model_id": "5f0d597fe4fa4468a96a559689d6de88",
       "version_major": 2,
       "version_minor": 0
      },
      "text/plain": [
       "Renderer(camera=PerspectiveCamera(aspect=1.6, children=(PointLight(color='#999999', position=(0.0, 0.0, 5.0), …"
      ]
     },
     "metadata": {},
     "output_type": "display_data"
    }
   ],
   "source": [
    "GHfile = \"Test_xshell.json\"\n",
    "\n",
    "# Import json from GH \n",
    "data = gh.linkageData(GHfile)\n",
    "linkage = data.linkage\n",
    "\n",
    "# Initialize viewer\n",
    "view = linkage_vis.LinkageViewer(linkage, width=1024, height=640)\n",
    "view.setCameraParams(((2.3969, -1.1451, -0.5262), (0.0765, 0.0848, -0.9935), (0.1111, 0.1865, 0.5316)))\n",
    "view.averagedMaterialFrames = True\n",
    "view.averagedCrossSections = True\n",
    "view.show()"
   ]
  },
  {
   "cell_type": "markdown",
   "id": "56432b24",
   "metadata": {},
   "source": [
    "#### Step 1: Compute initial equilibrium"
   ]
  },
  {
   "cell_type": "code",
   "execution_count": 9,
   "id": "neutral-smooth",
   "metadata": {},
   "outputs": [],
   "source": [
    "# Joint indexes can be checked with GH\n",
    "# Support conditions can be set with GH. If no support conditions are provided, the central joint is taken.\n",
    "supports = data.supports\n",
    "\n",
    "# Run equilibrium\n",
    "with so(): elastic_rods.compute_equilibrium(linkage, fixedVars=supports)\n",
    "\n",
    "# Update viewer    \n",
    "view.update()\n",
    " "
   ]
  },
  {
   "cell_type": "markdown",
   "id": "df440f6b",
   "metadata": {},
   "source": [
    "#### Step 2: Compute Deployment"
   ]
  },
  {
   "cell_type": "code",
   "execution_count": 10,
   "id": "6e2c6d3d",
   "metadata": {},
   "outputs": [],
   "source": [
    "   \n",
    "from open_linkage import open_linkage\n",
    "\n",
    "# Custom method for setting Newton's solver options (Optional)\n",
    "def equilibriumSolver(tgtAngle, linkage, opts, fv):\n",
    "    opts.beta = 1e-8\n",
    "    opts.gradTol = 1e-4\n",
    "    opts.useIdentityMetric = False\n",
    "    return elastic_rods.compute_equilibrium(linkage, tgtAngle, options=opts, fixedVars=fv)\n",
    "\n",
    "driver = linkage.centralJoint()\n",
    "target_angle = linkage.averageJointAngle + np.deg2rad(15)\n",
    "with so(): open_linkage(linkage, driver, target_angle, 50, view, zPerturbationEpsilon=0, equilibriumSolver=equilibriumSolver, maxNewtonIterationsIntermediate=20, verbose=10, useTargetAngleConstraint=True)"
   ]
  }
 ],
 "metadata": {
  "kernelspec": {
   "display_name": "Python 3",
   "language": "python",
   "name": "python3"
  },
  "language_info": {
   "codemirror_mode": {
    "name": "ipython",
    "version": 3
   },
   "file_extension": ".py",
   "mimetype": "text/x-python",
   "name": "python",
   "nbconvert_exporter": "python",
   "pygments_lexer": "ipython3",
   "version": "3.9.7"
  }
 },
 "nbformat": 4,
 "nbformat_minor": 5
}

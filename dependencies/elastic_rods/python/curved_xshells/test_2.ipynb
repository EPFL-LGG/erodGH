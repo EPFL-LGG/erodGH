{
 "cells": [
  {
   "cell_type": "markdown",
   "metadata": {},
   "source": [
    "### Curved XShell"
   ]
  },
  {
   "cell_type": "markdown",
   "metadata": {},
   "source": [
    "#### The input file is a json file containing nurbs curves in the xy plane. "
   ]
  },
  {
   "cell_type": "code",
   "execution_count": 1,
   "metadata": {},
   "outputs": [
    {
     "name": "stdout",
     "output_type": "stream",
     "text": [
      "Failed to load offscreen viewer: Could not load compiled module; is OffscreenRenderer missing a dependency?\n",
      "<elastic_rods.RodLinkage.Joint object at 0x7f7bb1685930>\n"
     ]
    }
   ],
   "source": [
    "import sys; sys.path.append('..')\n",
    "import numpy as np, elastic_rods\n",
    "from bending_validation import suppress_stdout\n",
    "from linkage_vis import LinkageViewer\n",
    "from matplotlib import pyplot as plt\n",
    "from linkage_utils import order_segments_by_ribbons, get_turning_angle_and_length_from_ordered_rods\n",
    "from elastic_rods import InterleavingType\n",
    "import pickle\n",
    "\n",
    "pos = np.array([0,0,0],order='F')\n",
    "omega = np.array([0,0,0],order='F')\n",
    "alpha = 10\n",
    "lenA = 1\n",
    "lenB = 2\n",
    "signB = -1\n",
    "t = np.array([1,1,1],order='F')\n",
    "norm = np.array([0,0,1],order='F')\n",
    "segmentsA = [1,1]\n",
    "segmentsB = [1,1]\n",
    "isStartA = [True, True]\n",
    "isStartB = [True, True]\n",
    "tyep = 0\n",
    "normalSigns = [1,1,1,1]\n",
    "j = elastic_rods.RodLinkage.Joint.fromState(pos, omega, alpha, lenA, lenB, signB, t, norm, segmentsA,segmentsB, isStartA, isStartB, tyep, normalSigns)\n",
    "print(j)"
   ]
  },
  {
   "cell_type": "code",
   "execution_count": null,
   "metadata": {},
   "outputs": [],
   "source": [
    "\n",
    "\n",
    "curved_file = 'data/test_2/20211014_NURBSmodel.json'\n",
    "\n",
    "\n",
    "from bending_validation import suppress_stdout as so\n",
    "\n",
    "\n",
    "from geomdl import exchange\n",
    "from geomdl import multi\n",
    "from geomdl.visualization import VisMPL as vis\n",
    "from geomdl import NURBS\n",
    "\n",
    "import geomdl\n",
    "\n",
    "import json\n",
    "# Import converted data\n",
    "with open(curved_file) as json_file:\n",
    "    data = json.load(json_file)"
   ]
  },
  {
   "cell_type": "code",
   "execution_count": 3,
   "metadata": {},
   "outputs": [],
   "source": [
    "from elasticRodsGH import linkageData"
   ]
  },
  {
   "cell_type": "code",
   "execution_count": 4,
   "metadata": {},
   "outputs": [],
   "source": [
    "linkage = linkageData(curved_file)"
   ]
  },
  {
   "cell_type": "code",
   "execution_count": 6,
   "metadata": {},
   "outputs": [
    {
     "data": {
      "text/plain": [
       "<elastic_rods.RodLinkage at 0x7fdc1007b9b0>"
      ]
     },
     "execution_count": 6,
     "metadata": {},
     "output_type": "execute_result"
    }
   ],
   "source": [
    "linkage.linkage\n",
    "\n"
   ]
  },
  {
   "cell_type": "code",
   "execution_count": 11,
   "metadata": {},
   "outputs": [
    {
     "data": {
      "application/vnd.jupyter.widget-view+json": {
       "model_id": "4cba0e0b35464a04931f9ddaa1196000",
       "version_major": 2,
       "version_minor": 0
      },
      "text/plain": [
       "Renderer(camera=PerspectiveCamera(aspect=1.4970760233918128, children=(PointLight(color='#999999', position=(0…"
      ]
     },
     "metadata": {},
     "output_type": "display_data"
    }
   ],
   "source": [
    "l = linkage.linkage\n",
    "driver=l.centralJoint()\n",
    "\n",
    "# dpo = elastic_rods.get_designParameter_optimizer(l, 1, 1)\n",
    "# # with so(): cr = dpo.optimize()\n",
    "\n",
    "jdo = l.dofOffsetForJoint(driver)\n",
    "fixedVars = list(range(jdo, jdo + 6)) # fix rigid motion for a single joint\n",
    "# with suppress_stdout(): elastic_rods.compute_equilibrium(l, fixedVars=fixedVars)\n",
    "\n",
    "view = LinkageViewer(l, width=1024, height=684)\n",
    "view.show()"
   ]
  },
  {
   "cell_type": "code",
   "execution_count": 12,
   "metadata": {},
   "outputs": [
    {
     "data": {
      "text/plain": [
       "array([ 0.,  0., -1.])"
      ]
     },
     "execution_count": 12,
     "metadata": {},
     "output_type": "execute_result"
    }
   ],
   "source": [
    "l.joint(0).normal"
   ]
  },
  {
   "cell_type": "code",
   "execution_count": 13,
   "metadata": {
    "scrolled": true
   },
   "outputs": [
    {
     "name": "stdout",
     "output_type": "stream",
     "text": [
      "0\t3.23733\t4.64675\t4.64675\t1\t1\n",
      "1\t3.21117\t0.678512\t0.678512\t1\t1\n",
      "2\t3.20258\t0.379309\t0.379309\t1\t1\n",
      "3\t3.19986\t0.328593\t0.328593\t1\t1\n",
      "4\t3.19591\t0.275394\t0.275394\t1\t1\n",
      "5\t3.19425\t0.258371\t0.258371\t1\t1\n",
      "6\t3.19147\t0.234989\t0.234989\t1\t1\n",
      "7\t3.19022\t0.226351\t0.226351\t1\t1\n",
      "8\t3.18801\t0.212594\t0.212594\t1\t1\n",
      "9\t3.18699\t0.207086\t0.207086\t1\t1\n",
      "10\t3.18513\t0.197582\t0.197582\t1\t1\n",
      "11\t3.18425\t0.19359\t0.19359\t1\t1\n",
      "12\t3.18263\t0.18641\t0.18641\t1\t1\n",
      "13\t3.18185\t0.183306\t0.183306\t1\t1\n",
      "14\t3.18039\t0.1776\t0.1776\t1\t1\n",
      "15\t3.17969\t0.175087\t0.175087\t1\t1\n",
      "16\t3.17836\t0.170406\t0.170406\t1\t1\n",
      "17\t3.17771\t0.168315\t0.168315\t1\t1\n",
      "18\t3.17648\t0.164383\t0.164383\t1\t1\n",
      "19\t3.17588\t0.162608\t0.162608\t1\t1\n",
      "20\t3.17473\t0.159239\t0.159239\t1\t1\n",
      "21\t3.17417\t0.157702\t0.157702\t1\t1\n",
      "22\t3.17309\t0.154763\t0.154763\t1\t1\n",
      "23\t3.17256\t0.15341\t0.15341\t1\t1\n",
      "24\t3.17153\t0.150804\t0.150804\t1\t1\n",
      "25\t3.17103\t0.149594\t0.149594\t1\t1\n",
      "26\t3.17005\t0.147248\t0.147248\t1\t1\n",
      "27\t3.16957\t0.146152\t0.146152\t1\t1\n",
      "28\t3.16864\t0.144012\t0.144012\t1\t1\n",
      "29\t3.16818\t0.143006\t0.143006\t1\t1\n",
      "30\t3.16729\t0.141033\t0.141033\t1\t1\n",
      "31\t3.16685\t0.140099\t0.140099\t1\t1\n",
      "32\t3.166\t0.138262\t0.138262\t1\t1\n",
      "33\t3.16557\t0.137388\t0.137388\t1\t1\n",
      "34\t3.16475\t0.135663\t0.135663\t1\t1\n",
      "35\t3.16435\t0.13484\t0.13484\t1\t1\n",
      "36\t3.16355\t0.133209\t0.133209\t1\t1\n",
      "37\t3.16316\t0.132429\t0.132429\t1\t1\n",
      "38\t3.1624\t0.130878\t0.130878\t1\t1\n",
      "39\t3.16202\t0.130134\t0.130134\t1\t1\n",
      "40\t3.16128\t0.128653\t0.128653\t1\t1\n",
      "41\t3.16092\t0.127941\t0.127941\t1\t1\n",
      "42\t3.16021\t0.126525\t0.126525\t1\t1\n",
      "43\t3.15986\t0.125847\t0.125847\t1\t1\n",
      "44\t3.15917\t0.124551\t0.124551\t1\t1\n",
      "45\t3.15883\t0.123982\t0.123982\t1\t1\n",
      "46\t3.15815\t0.123695\t0.123695\t1\t1\n",
      "47\t3.15781\t0.124369\t0.124369\t1\t1\n",
      "48\t3.15698\t0.13738\t0.13738\t1\t1\n",
      "49\t3.15643\t0.152378\t0.152378\t1\t1\n",
      "50\t3.15338\t0.292778\t0.292778\t1\t1\n",
      "51\t3.15029\t0.348267\t0.348267\t1\t1\n",
      "52\t3.13002\t0.923267\t0.923267\t1\t1\n",
      "53\t3.11465\t0.763041\t0.763041\t1\t1\n",
      "54\t3.05729\t1.51487\t1.51487\t1\t1\n",
      "55\t3.02748\t1.05761\t1.05761\t1\t1\n",
      "56\t2.96417\t1.3553\t1.3553\t1\t1\n",
      "57\t2.87169\t6.9669\t6.9669\t0.125\t1\n",
      "58\t2.85029\t6.25541\t6.25541\t1\t1\n",
      "59\t2.7788\t1.30389\t1.30389\t1\t1\n",
      "60\t2.69837\t2.22268\t2.22268\t1\t1\n",
      "61\t2.63341\t7.81775\t7.81775\t1\t1\n",
      "62\t2.50975\t1.98327\t1.98327\t1\t1\n",
      "63\t2.40001\t4.25634\t4.25634\t1\t1\n",
      "64\t2.3365\t0.828338\t0.828338\t1\t1\n",
      "65\t2.23623\t2.34211\t2.34211\t0.25\t1\n",
      "66\t2.18015\t3.75399\t3.75399\t1\t1\n",
      "67\t2.13686\t0.754806\t0.754806\t1\t1\n",
      "68\t2.07785\t0.778457\t0.778457\t1\t1\n",
      "69\t1.96319\t2.29094\t2.29094\t1\t1\n",
      "70\t1.90461\t1.39244\t1.39244\t1\t1\n",
      "71\t1.82545\t6.74775\t6.74775\t1\t1\n",
      "72\t1.7963\t0.94941\t0.94941\t1\t1\n",
      "73\t1.78773\t0.530549\t0.530549\t1\t1\n",
      "74\t1.77468\t0.476059\t0.476059\t1\t1\n",
      "75\t1.75091\t0.468375\t0.468375\t1\t1\n",
      "76\t1.70731\t0.566079\t0.566079\t1\t1\n",
      "77\t1.63136\t1.09598\t1.09598\t1\t1\n",
      "78\t1.50869\t3.38481\t3.38481\t1\t1\n",
      "79\t1.34969\t6.40471\t6.40471\t1\t1\n",
      "80\t1.29548\t4.76325\t4.76325\t1\t1\n",
      "81\t1.26717\t0.629362\t0.629362\t1\t1\n",
      "82\t1.24291\t0.425996\t0.425996\t1\t1\n",
      "83\t1.20252\t0.556654\t0.556654\t1\t1\n",
      "84\t1.13664\t1.12911\t1.12911\t1\t1\n",
      "85\t1.04158\t2.31698\t2.31698\t1\t1\n",
      "86\t0.94249\t4.21267\t4.21267\t1\t1\n",
      "87\t0.907097\t1.97259\t1.97259\t0.5\t1\n",
      "88\t0.89036\t1.88348\t1.88348\t1\t1\n",
      "89\t0.87011\t0.73449\t0.73449\t1\t1\n",
      "90\t0.842882\t1.36533\t1.36533\t1\t1\n",
      "91\t0.828998\t0.237588\t0.237588\t1\t1\n",
      "92\t0.808418\t0.414488\t0.414488\t1\t1\n",
      "93\t0.778821\t0.680199\t0.680199\t1\t1\n",
      "94\t0.741439\t1.1003\t1.1003\t1\t1\n",
      "95\t0.699031\t1.47604\t1.47604\t1\t1\n",
      "96\t0.654166\t1.63919\t1.63919\t1\t1\n",
      "97\t0.613875\t2.70025\t2.70025\t0.125\t1\n",
      "98\t0.606442\t2.32804\t2.32804\t1\t1\n",
      "99\t0.570127\t4.05967\t4.05967\t1\t0\n",
      "100\t0.519839\t3.02513\t3.02513\t1\t0\n"
     ]
    }
   ],
   "source": [
    "report = elastic_rods.compute_equilibrium(l, fixedVars=fixedVars)"
   ]
  },
  {
   "cell_type": "code",
   "execution_count": null,
   "metadata": {},
   "outputs": [],
   "source": [
    "report.success"
   ]
  },
  {
   "cell_type": "code",
   "execution_count": null,
   "metadata": {},
   "outputs": [],
   "source": [
    "l.energy()"
   ]
  },
  {
   "cell_type": "code",
   "execution_count": null,
   "metadata": {},
   "outputs": [],
   "source": [
    "l.energy(elastic_rods.EnergyType.Bend)"
   ]
  },
  {
   "cell_type": "code",
   "execution_count": null,
   "metadata": {},
   "outputs": [],
   "source": [
    "l.energy(elastic_rods.EnergyType.Twist)"
   ]
  },
  {
   "cell_type": "code",
   "execution_count": null,
   "metadata": {},
   "outputs": [],
   "source": [
    "l.energy(elastic_rods.EnergyType.Stretch)"
   ]
  },
  {
   "cell_type": "code",
   "execution_count": null,
   "metadata": {},
   "outputs": [],
   "source": [
    "from open_linkage import open_linkage\n",
    "def equilibriumSolver(tgtAngle, l, opts, fv):\n",
    "    return elastic_rods.compute_equilibrium(l, tgtAngle, options=opts, fixedVars=fv)\n",
    "elastic_rods.benchmark_reset()\n",
    "with suppress_stdout(): cr = open_linkage(l, driver, 6 * np.pi / 16, 50, view, zPerturbationEpsilon=0, equilibriumSolver=equilibriumSolver, maxNewtonIterationsIntermediate=30, verbose=True, useTargetAngleConstraint=True)\n",
    "elastic_rods.benchmark_report()"
   ]
  }
 ],
 "metadata": {
  "kernelspec": {
   "display_name": "Python 3",
   "language": "python",
   "name": "python3"
  },
  "language_info": {
   "codemirror_mode": {
    "name": "ipython",
    "version": 3
   },
   "file_extension": ".py",
   "mimetype": "text/x-python",
   "name": "python",
   "nbconvert_exporter": "python",
   "pygments_lexer": "ipython3",
   "version": "3.9.7"
  }
 },
 "nbformat": 4,
 "nbformat_minor": 4
}

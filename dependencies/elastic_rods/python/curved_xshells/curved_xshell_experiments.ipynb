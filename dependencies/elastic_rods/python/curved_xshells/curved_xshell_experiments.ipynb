{
 "cells": [
  {
   "cell_type": "markdown",
   "metadata": {},
   "source": [
    "### Curved XShell"
   ]
  },
  {
   "cell_type": "markdown",
   "metadata": {},
   "source": [
    "#### The input file is a json file containing nurbs curves in the xy plane. "
   ]
  },
  {
   "cell_type": "code",
   "execution_count": 4,
   "metadata": {},
   "outputs": [],
   "source": [
    "import sys; sys.path.append('..')\n",
    "import numpy as np, elastic_rods\n",
    "from bending_validation import suppress_stdout\n",
    "from linkage_vis import LinkageViewer\n",
    "from matplotlib import pyplot as plt\n",
    "from linkage_utils import order_segments_by_ribbons, get_turning_angle_and_length_from_ordered_rods\n",
    "\n",
    "\n",
    "curved_file = 'data/test_2/20211014_NURBSmodel.json'\n",
    "\n",
    "\n",
    "\n",
    "from bending_validation import suppress_stdout as so\n",
    "\n",
    "\n",
    "from geomdl import exchange\n",
    "from geomdl import multi\n",
    "from geomdl.visualization import VisMPL as vis\n",
    "from geomdl import NURBS\n",
    "from elasticRodsGH import linkageData\n",
    "\n",
    "import geomdl\n",
    "\n",
    "import json\n",
    "# Import converted data\n",
    "with open(curved_file) as json_file:\n",
    "    data = json.load(json_file)"
   ]
  },
  {
   "cell_type": "code",
   "execution_count": 6,
   "metadata": {},
   "outputs": [],
   "source": [
    "# def clip_alpha(a):\n",
    "#     if a > 1:\n",
    "#         return 1\n",
    "#     if a < 0:\n",
    "#         return 0\n",
    "#     return a\n",
    "\n",
    "# curve_list = []\n",
    "# curve_function_list = []\n",
    "# for curve in data['curves']:\n",
    "#     crv_obj = NURBS.Curve()\n",
    "#     crv_obj.degree = curve['degree']\n",
    "#     crv_obj.ctrlpts = curve['cvs']\n",
    "#     crv_obj.knotvector = [curve['knots'][0]] + curve['knots'] + [curve['knots'][-1]]\n",
    "#     curve_function_list.append((lambda capture_crv: lambda alpha, correct_orientation: np.array(capture_crv.evaluate_single(clip_alpha(alpha))[:3]) if correct_orientation else np.array(capture_crv.evaluate_single(clip_alpha(1-alpha))[:3]))(crv_obj))\n",
    "#     curve_list.append(crv_obj)"
   ]
  },
  {
   "cell_type": "code",
   "execution_count": 10,
   "metadata": {},
   "outputs": [
    {
     "name": "stdout",
     "output_type": "stream",
     "text": [
      "<elastic_rods.RodLinkage object at 0x7fb2157905f0>\n"
     ]
    },
    {
     "data": {
      "application/vnd.jupyter.widget-view+json": {
       "model_id": "2213fd9e5ae547c98e5cc44cec74aecf",
       "version_major": 2,
       "version_minor": 0
      },
      "text/plain": [
       "Renderer(camera=PerspectiveCamera(aspect=1.4970760233918128, children=(PointLight(color='#999999', position=(0…"
      ]
     },
     "metadata": {},
     "output_type": "display_data"
    }
   ],
   "source": [
    "linkage = linkageData(curved_file)\n",
    "l = linkage.linkage\n",
    "print(l)\n",
    "\n",
    "#l = elastic_rods.RodLinkage(linkage_file, edge_callbacks = curve_function_list, rod_interleaving_type = elastic_rods.InterleavingType.xshell, subdivision = 20)\n",
    "driver=l.centralJoint()\n",
    "\n",
    "# l.setMaterial(elastic_rods.RodMaterial('+', 2000, 0.3, [30, 30, 3, 3]))\n",
    "#l.setMaterial(elastic_rods.RodMaterial('rectangle', 2000, 0.3, [40, 15]))\n",
    "\n",
    "dpo = elastic_rods.get_designParameter_optimizer(l, 1, 1)\n",
    "# with so(): cr = dpo.optimize()\n",
    "\n",
    "jdo = l.dofOffsetForJoint(driver)\n",
    "fixedVars = list(range(jdo, jdo + 6)) # fix rigid motion for a single joint\n",
    "# with suppress_stdout(): elastic_rods.compute_equilibrium(l, fixedVars=fixedVars)\n",
    "\n",
    "view = LinkageViewer(l, width=1024, height=684)\n",
    "view.show()"
   ]
  },
  {
   "cell_type": "code",
   "execution_count": null,
   "metadata": {},
   "outputs": [],
   "source": [
    "view.update()"
   ]
  },
  {
   "cell_type": "code",
   "execution_count": null,
   "metadata": {
    "scrolled": true
   },
   "outputs": [
    {
     "ename": "RuntimeError",
     "evalue": "Problem doesn't apply a LEQ constraint.",
     "output_type": "error",
     "traceback": [
      "\u001b[0;31m---------------------------------------------------------------------------\u001b[0m",
      "\u001b[0;31mRuntimeError\u001b[0m                              Traceback (most recent call last)",
      "\u001b[0;32m<ipython-input-5-ea0efbe28c13>\u001b[0m in \u001b[0;36m<module>\u001b[0;34m\u001b[0m\n\u001b[0;32m----> 1\u001b[0;31m \u001b[0melastic_rods\u001b[0m\u001b[0;34m.\u001b[0m\u001b[0mcompute_equilibrium\u001b[0m\u001b[0;34m(\u001b[0m\u001b[0ml\u001b[0m\u001b[0;34m,\u001b[0m \u001b[0mfixedVars\u001b[0m\u001b[0;34m=\u001b[0m\u001b[0mfixedVars\u001b[0m\u001b[0;34m)\u001b[0m\u001b[0;34m\u001b[0m\u001b[0;34m\u001b[0m\u001b[0m\n\u001b[0m",
      "\u001b[0;31mRuntimeError\u001b[0m: Problem doesn't apply a LEQ constraint."
     ]
    }
   ],
   "source": [
    "#elastic_rods.compute_equilibrium(l, fixedVars=fixedVars)\n"
   ]
  },
  {
   "cell_type": "code",
   "execution_count": null,
   "metadata": {},
   "outputs": [
    {
     "data": {
      "text/plain": [
       "True"
      ]
     },
     "execution_count": 7,
     "metadata": {},
     "output_type": "execute_result"
    }
   ],
   "source": [
    "l.get_design_parameter_config().restKappa"
   ]
  },
  {
   "cell_type": "code",
   "execution_count": 8,
   "metadata": {},
   "outputs": [],
   "source": [
    "with suppress_stdout(): elastic_rods.compute_equilibrium(l, 0,fixedVars=fixedVars)"
   ]
  },
  {
   "cell_type": "code",
   "execution_count": 9,
   "metadata": {},
   "outputs": [
    {
     "data": {
      "text/plain": [
       "362269.17901552573"
      ]
     },
     "execution_count": 9,
     "metadata": {},
     "output_type": "execute_result"
    }
   ],
   "source": [
    "l.energy()"
   ]
  },
  {
   "cell_type": "code",
   "execution_count": 10,
   "metadata": {},
   "outputs": [
    {
     "data": {
      "text/plain": [
       "298554.7478936982"
      ]
     },
     "execution_count": 10,
     "metadata": {},
     "output_type": "execute_result"
    }
   ],
   "source": [
    "l.energy(elastic_rods.EnergyType.Bend)"
   ]
  },
  {
   "cell_type": "code",
   "execution_count": 11,
   "metadata": {},
   "outputs": [
    {
     "data": {
      "text/plain": [
       "59293.796440669015"
      ]
     },
     "execution_count": 11,
     "metadata": {},
     "output_type": "execute_result"
    }
   ],
   "source": [
    "l.energy(elastic_rods.EnergyType.Twist)"
   ]
  },
  {
   "cell_type": "code",
   "execution_count": 12,
   "metadata": {},
   "outputs": [
    {
     "data": {
      "text/plain": [
       "4420.634681158395"
      ]
     },
     "execution_count": 12,
     "metadata": {},
     "output_type": "execute_result"
    }
   ],
   "source": [
    "l.energy(elastic_rods.EnergyType.Stretch)"
   ]
  },
  {
   "cell_type": "code",
   "execution_count": 14,
   "metadata": {},
   "outputs": [],
   "source": [
    "rod = l.segment(0).rod\n"
   ]
  },
  {
   "cell_type": "code",
   "execution_count": 15,
   "metadata": {},
   "outputs": [
    {
     "data": {
      "text/plain": [
       "[array([-4708.78618295, 11733.93175348,   378.43374282]),\n",
       " array([-4695.87168628, 11731.22663273,   374.12407797]),\n",
       " array([-4682.97584377, 11728.46463041,   369.79952312]),\n",
       " array([-4670.10327325, 11725.63452649,   365.44975979]),\n",
       " array([-4657.25458383, 11722.73771075,   361.0733738 ]),\n",
       " array([-4644.43038012, 11719.77568637,   356.66889405]),\n",
       " array([-4631.63125316, 11716.74993266,   352.23487649]),\n",
       " array([-4618.85777684, 11713.6619085 ,   347.76991548]),\n",
       " array([-4606.11050848, 11710.51304632,   343.2726492 ]),\n",
       " array([-4593.38998874, 11707.30474741,   338.7417657 ]),\n",
       " array([-4580.69674001, 11704.03838065,   334.17601081]),\n",
       " array([-4568.03126576, 11700.7152789 ,   329.57419437]),\n",
       " array([-4555.39404934, 11697.33673664,   324.93519693]),\n",
       " array([-4542.78555268, 11693.90400745,   320.25797617]),\n",
       " array([-4530.20621488, 11690.41830188,   315.54157314]),\n",
       " array([-4517.65645059, 11686.88078527,   310.78511822]),\n",
       " array([-4505.13664814, 11683.29257636,   305.98783715]),\n",
       " array([-4492.64716766, 11679.65474544,   301.14905647]),\n",
       " array([-4480.18833893, 11675.96831311,   296.26820896]),\n",
       " array([-4467.76046661, 11672.23427799,   291.34465363]),\n",
       " array([-4455.35657217, 11668.46904398,   286.38557561])]"
      ]
     },
     "execution_count": 15,
     "metadata": {},
     "output_type": "execute_result"
    }
   ],
   "source": [
    "rod.deformedPoints()"
   ]
  },
  {
   "cell_type": "code",
   "execution_count": 16,
   "metadata": {},
   "outputs": [
    {
     "name": "stdout",
     "output_type": "stream",
     "text": [
      "Newton iterations\t54.639\t51\n",
      "    Newton iterate\t54.5932\t1376\n",
      "        Backtracking\t3.9091\t1376\n",
      "            RodLinkage<Real>.setDoFs\t3.06976\t11510\n",
      "        Compute descent direction\t48.1105\t1376\n",
      "            newton_step\t47.8772\t1376\n",
      "                Newton solve\t32.8672\t1554\n",
      "                    CHOLMOD Numeric Factorize\t27.1702\t1553\n",
      "                    RodLinkage<Real>.massMatrix\t0.829043\t106\n",
      "                    Solve\t4.05348\t1554\n",
      "                        CHOLMOD Backsub\t3.3592\t2930\n",
      "                        CHOLMOD Numeric Factorize\t0.0208549\t1\n",
      "                        CHOLMOD Symbolic Factorize\t0.060936\t1\n",
      "                RodLinkage<Real>.massMatrix\t0.0450511\t6\n",
      "                hessEval\t14.5449\t1376\n",
      "                    RodLinkage<Real>.hessian\t13.278\t1376\n",
      "                largestMagnitudeEigenvalue\t0.283352\t12\n",
      "        Preamble\t1.62049\t1376\n",
      "            Callback\t0.192884\t1376\n",
      "            RodLinkage<Real>.gradient\t0.931759\t1376\n",
      "        RodLinkage<Real>.setDoFs\t0.470908\t2066\n",
      "    RodLinkage<Real>.gradient\t0.0188644\t31\n",
      "RodLinkage<Real>.gradient\t0.0813167\t101\n",
      "RodLinkage<Real>.setDoFs\t0.0803459\t202\n",
      "newton_step\t5.32199\t50\n",
      "    Newton solve\t4.22356\t57\n",
      "        CHOLMOD Numeric Factorize\t0.117947\t7\n",
      "        Solve\t4.07225\t57\n",
      "            CHOLMOD Backsub\t0.134008\t107\n",
      "            CHOLMOD Numeric Factorize\t0.994014\t50\n",
      "            CHOLMOD Symbolic Factorize\t2.90115\t50\n",
      "    RodLinkage<Real>.massMatrix\t0.0337424\t4\n",
      "    hessEval\t0.848997\t50\n",
      "        RodLinkage<Real>.hessian\t0.664269\t50\n",
      "    largestMagnitudeEigenvalue\t0.206562\t8\n",
      "Full time\t61.1035\n"
     ]
    }
   ],
   "source": [
    "from open_linkage import open_linkage\n",
    "def equilibriumSolver(tgtAngle, l, opts, fv):\n",
    "    return elastic_rods.compute_equilibrium(l, tgtAngle, options=opts, fixedVars=fv)\n",
    "elastic_rods.benchmark_reset()\n",
    "with suppress_stdout(): cr = open_linkage(l, driver, 6 * np.pi / 16, 50, view, zPerturbationEpsilon=0, equilibriumSolver=equilibriumSolver, maxNewtonIterationsIntermediate=30, verbose=True, useTargetAngleConstraint=True)\n",
    "elastic_rods.benchmark_report()"
   ]
  },
  {
   "cell_type": "markdown",
   "metadata": {},
   "source": [
    "### Read curvature and length from the current structure"
   ]
  },
  {
   "cell_type": "code",
   "execution_count": 17,
   "metadata": {},
   "outputs": [],
   "source": [
    "def fixed_point_iterate_design_parameters(linkage):\n",
    "    segment_restlen = []\n",
    "    for i in range(linkage.numSegments()):\n",
    "        r = linkage.segment(i).rod\n",
    "        # compute new kappa\n",
    "        curr_rest_kappa = r.restKappas()\n",
    "        deformed_kappa = r.deformedConfiguration().kappa\n",
    "        new_kappa = []\n",
    "        for j in range(len(curr_rest_kappa)):\n",
    "            new_kappa.append(np.array([deformed_kappa[j][0], curr_rest_kappa[j][1]]))\n",
    "\n",
    "        linkage.segment(i).rod.setRestKappas(new_kappa)\n",
    "        \n",
    "        deformed_restlen = r.deformedConfiguration().len\n",
    "        segment_restlen.append(sum(deformed_restlen) - deformed_restlen[0]/2 - deformed_restlen[-1]/2)\n",
    "    linkage.setPerSegmentRestLength(segment_restlen)\n",
    "    elastic_rods.compute_equilibrium(linkage, fixedVars=fixedVars)\n",
    "\n"
   ]
  },
  {
   "cell_type": "code",
   "execution_count": 18,
   "metadata": {
    "scrolled": true
   },
   "outputs": [
    {
     "ename": "RuntimeError",
     "evalue": "Problem doesn't apply a LEQ constraint.",
     "output_type": "error",
     "traceback": [
      "\u001b[0;31m---------------------------------------------------------------------------\u001b[0m",
      "\u001b[0;31mRuntimeError\u001b[0m                              Traceback (most recent call last)",
      "\u001b[0;32m<ipython-input-18-5570cdd34423>\u001b[0m in \u001b[0;36m<module>\u001b[0;34m\u001b[0m\n\u001b[1;32m      1\u001b[0m \u001b[0;32mfor\u001b[0m \u001b[0mi\u001b[0m \u001b[0;32min\u001b[0m \u001b[0mrange\u001b[0m\u001b[0;34m(\u001b[0m\u001b[0;36m10\u001b[0m\u001b[0;34m)\u001b[0m\u001b[0;34m:\u001b[0m\u001b[0;34m\u001b[0m\u001b[0;34m\u001b[0m\u001b[0m\n\u001b[0;32m----> 2\u001b[0;31m     \u001b[0mfixed_point_iterate_design_parameters\u001b[0m\u001b[0;34m(\u001b[0m\u001b[0ml\u001b[0m\u001b[0;34m)\u001b[0m\u001b[0;34m\u001b[0m\u001b[0;34m\u001b[0m\u001b[0m\n\u001b[0m",
      "\u001b[0;32m<ipython-input-17-1d616cc47145>\u001b[0m in \u001b[0;36mfixed_point_iterate_design_parameters\u001b[0;34m(linkage)\u001b[0m\n\u001b[1;32m     15\u001b[0m         \u001b[0msegment_restlen\u001b[0m\u001b[0;34m.\u001b[0m\u001b[0mappend\u001b[0m\u001b[0;34m(\u001b[0m\u001b[0msum\u001b[0m\u001b[0;34m(\u001b[0m\u001b[0mdeformed_restlen\u001b[0m\u001b[0;34m)\u001b[0m \u001b[0;34m-\u001b[0m \u001b[0mdeformed_restlen\u001b[0m\u001b[0;34m[\u001b[0m\u001b[0;36m0\u001b[0m\u001b[0;34m]\u001b[0m\u001b[0;34m/\u001b[0m\u001b[0;36m2\u001b[0m \u001b[0;34m-\u001b[0m \u001b[0mdeformed_restlen\u001b[0m\u001b[0;34m[\u001b[0m\u001b[0;34m-\u001b[0m\u001b[0;36m1\u001b[0m\u001b[0;34m]\u001b[0m\u001b[0;34m/\u001b[0m\u001b[0;36m2\u001b[0m\u001b[0;34m)\u001b[0m\u001b[0;34m\u001b[0m\u001b[0;34m\u001b[0m\u001b[0m\n\u001b[1;32m     16\u001b[0m     \u001b[0mlinkage\u001b[0m\u001b[0;34m.\u001b[0m\u001b[0msetPerSegmentRestLength\u001b[0m\u001b[0;34m(\u001b[0m\u001b[0msegment_restlen\u001b[0m\u001b[0;34m)\u001b[0m\u001b[0;34m\u001b[0m\u001b[0;34m\u001b[0m\u001b[0m\n\u001b[0;32m---> 17\u001b[0;31m     \u001b[0melastic_rods\u001b[0m\u001b[0;34m.\u001b[0m\u001b[0mcompute_equilibrium\u001b[0m\u001b[0;34m(\u001b[0m\u001b[0mlinkage\u001b[0m\u001b[0;34m,\u001b[0m \u001b[0mfixedVars\u001b[0m\u001b[0;34m=\u001b[0m\u001b[0mfixedVars\u001b[0m\u001b[0;34m)\u001b[0m\u001b[0;34m\u001b[0m\u001b[0;34m\u001b[0m\u001b[0m\n\u001b[0m\u001b[1;32m     18\u001b[0m \u001b[0;34m\u001b[0m\u001b[0m\n",
      "\u001b[0;31mRuntimeError\u001b[0m: Problem doesn't apply a LEQ constraint."
     ]
    }
   ],
   "source": [
    "for i in range(10):\n",
    "    fixed_point_iterate_design_parameters(l)"
   ]
  },
  {
   "cell_type": "code",
   "execution_count": null,
   "metadata": {},
   "outputs": [],
   "source": []
  }
 ],
 "metadata": {
  "kernelspec": {
   "display_name": "Python 3",
   "language": "python",
   "name": "python3"
  },
  "language_info": {
   "codemirror_mode": {
    "name": "ipython",
    "version": 3
   },
   "file_extension": ".py",
   "mimetype": "text/x-python",
   "name": "python",
   "nbconvert_exporter": "python",
   "pygments_lexer": "ipython3",
   "version": "3.9.7"
  }
 },
 "nbformat": 4,
 "nbformat_minor": 4
}

{
 "cells": [
  {
   "cell_type": "code",
   "execution_count": null,
   "metadata": {},
   "outputs": [],
   "source": [
    "import sys; sys.path.append('..')\n",
    "import numpy as np, elastic_rods, time\n",
    "from bending_validation import suppress_stdout\n",
    "from linkage_vis import LinkageViewer\n",
    "from matplotlib import pyplot as plt\n",
    "import os\n",
    "from open_linkage import open_linkage"
   ]
  },
  {
   "cell_type": "code",
   "execution_count": null,
   "metadata": {},
   "outputs": [],
   "source": [
    "def resultsDirForRun(inputName, aspectRatio):\n",
    "    return f'results/{inputName}/aspect_ratio_{aspectRatio}'"
   ]
  },
  {
   "cell_type": "markdown",
   "metadata": {},
   "source": [
    "## Run the simulations/analyses for all meshes"
   ]
  },
  {
   "cell_type": "code",
   "execution_count": null,
   "metadata": {},
   "outputs": [],
   "source": [
    "def runAnalysis(inputName, aspectRatio):\n",
    "    lineMesh = inputName + '.obj'\n",
    "    l = elastic_rods.RodLinkage(lineMesh, 10)\n",
    "    driver=l.centralJoint()\n",
    "\n",
    "    width = 0.01\n",
    "    thickness = width / aspectRatio\n",
    "    resultDir = resultsDirForRun(inputName, aspectRatio)\n",
    "    os.makedirs(resultDir, exist_ok=True)\n",
    "\n",
    "    l.setMaterial(elastic_rods.RodMaterial('rectangle', 20000, 0.3, [.01, thickness]))\n",
    "    l.setBendingEnergyType(elastic_rods.BendingEnergyType.Bergou2008)\n",
    "\n",
    "    l.saveVisualizationGeometry(f'{resultDir}/pre_restlen_solve.msh')\n",
    "\n",
    "    opts = elastic_rods.NewtonOptimizerOptions()\n",
    "    opts.niter = 5000\n",
    "\n",
    "    with suppress_stdout(): elastic_rods.restlen_solve(l, opts)\n",
    "\n",
    "    l.saveVisualizationGeometry(f'{resultDir}/post_restlen_solve.msh')\n",
    "\n",
    "    jdo = l.dofOffsetForJoint(driver)\n",
    "    fixedVars = list(range(jdo, jdo + 6)) # fix rigid motion for a single joint\n",
    "    \n",
    "    opts = elastic_rods.NewtonOptimizerOptions()\n",
    "    opts.niter = 5\n",
    "    opts.beta = 1e-12\n",
    "    opts.gradTol = 1e-12\n",
    "\n",
    "    equilibriumFramesDir = f'{resultDir}/equilibriumFrames'\n",
    "    os.makedirs(equilibriumFramesDir, exist_ok=True)\n",
    "\n",
    "    for i in range(1000):\n",
    "        with suppress_stdout(): cr = elastic_rods.compute_equilibrium(l, fixedVars=fixedVars, options=opts)\n",
    "        l.saveVisualizationGeometry(f'{equilibriumFramesDir}/step_{i}.msh')\n",
    "        if (cr.success or (cr.numIters() == 1)): break\n",
    "            \n",
    "    lambdas, mview = None, None\n",
    "    if (aspectRatio != 20): # For some reason aspect ratio 20 is taking forever...\n",
    "        import compute_vibrational_modes\n",
    "        lambdas, modes = compute_vibrational_modes.compute_vibrational_modes(l, fixedVars=[], mtype=compute_vibrational_modes.MassMatrixType.FULL, n=9)\n",
    "        modes = modes[:, 6:]\n",
    "        lambdas = lambdas[6:]\n",
    "\n",
    "        import mode_viewer, importlib\n",
    "        importlib.reload(mode_viewer);\n",
    "        mview = mode_viewer.ModeViewer(l, modes, lambdas, amplitude=5.0, width=768, height=640)\n",
    "    \n",
    "    import deployment_path_analysis\n",
    "    dpa = deployment_path_analysis.deploymentPathAnalysis(l, fixedVars)\n",
    "    deployment_mview = deployment_path_analysis.deploymentModeViewer(l, fixedVars)\n",
    "    deployment_mview.setAmplitude(0.3)\n",
    "    \n",
    "    def MNormSq(v): return l.massMatrix().apply(v).dot(v)\n",
    "    def EnergyIncrement(v): return l.hessian().apply(v).dot(v)\n",
    "    d = dpa.deploymentStep / np.sqrt(MNormSq(dpa.deploymentStep))\n",
    "    \n",
    "    def equilibriumSolver(tgtAngle, l, opts, fv):\n",
    "        opts.beta = 1e-8\n",
    "        opts.gradTol = 1e-12\n",
    "        opts.useIdentityMetric = False\n",
    "        opts.niter = 1000\n",
    "        return elastic_rods.compute_equilibrium(l, tgtAngle, options=opts, fixedVars=fv)\n",
    "    # We copy the linkage so the linkage referenced by mview/deployment_mview is left intact\n",
    "    lclose = elastic_rods.RodLinkage(l)\n",
    "    closeFramesDir = f'{resultDir}/closeFrames'\n",
    "    os.makedirs(closeFramesDir, exist_ok=True)\n",
    "    with suppress_stdout(): cr = open_linkage(lclose, driver, np.deg2rad(50) - l.averageJointAngle, 100, None, zPerturbationEpsilon=0, equilibriumSolver=equilibriumSolver, maxNewtonIterationsIntermediate=80, verbose=10, useTargetAngleConstraint=True,\n",
    "                                              outPathFormat=closeFramesDir + '/frame_{}.msh')\n",
    "\n",
    "    energies = [r.energy[-1] for r in cr[0]][:-1]\n",
    "    angles = cr[2][:-1]\n",
    "    bend_energies = [e['energy_bend'] for e in [r.customData[-1] for r in cr[0]][:-1]]\n",
    "    twist_energies = [e['energy_twist'] for e in [r.customData[-1] for r in cr[0]][:-1]]\n",
    "    fig = plt.figure(figsize=(10,6))\n",
    "    plt.plot(angles, energies, angles, bend_energies, angles, twist_energies)\n",
    "    plt.title('Energy along path')\n",
    "    plt.xlabel('Average opening angle')\n",
    "    plt.legend(['Total', 'Bend', 'Twist'])\n",
    "    plt.tight_layout()\n",
    "    plt.grid()\n",
    "    plt.savefig(resultDir + '/close_path_energy.png', dpi=144)\n",
    "    \n",
    "    return (mview, deployment_mview, lambdas, EnergyIncrement(d))"
   ]
  },
  {
   "cell_type": "code",
   "execution_count": null,
   "metadata": {},
   "outputs": [],
   "source": [
    "results = {}\n",
    "for inputName in ['scherk_1_good_x_cleaned', 'scherk_1_good_relaxed_x_cleaned']:\n",
    "    for aspectRatio in [5, 10, 20]:\n",
    "        print(inputName, aspectRatio)\n",
    "        results[(inputName, aspectRatio)] = runAnalysis(inputName, aspectRatio)"
   ]
  },
  {
   "cell_type": "markdown",
   "metadata": {},
   "source": [
    "## Generate movies for the equilibrium solves and closing simulations"
   ]
  },
  {
   "cell_type": "code",
   "execution_count": null,
   "metadata": {},
   "outputs": [],
   "source": [
    "import os\n",
    "from glob import glob\n",
    "import subprocess\n",
    "import PIL\n",
    "from PIL import Image, ImageChops\n",
    "\n",
    "def imageForMesh(path):\n",
    "    num = path.split('_')[-1].split('.')[0]\n",
    "    return f'{os.path.dirname(path)}/frame_{num}.png'\n",
    "    \n",
    "def meshesForRun(inputName, aspectRatio):\n",
    "    resultsDir = resultsDirForRun(inputName, aspectRatio)\n",
    "    # return glob(f'{resultsDir}/equilibriumFrames/*.msh')\n",
    "    return [path for subdir in ['equilibriumFrames', 'closeFrames'] for path in glob(f'{resultsDir}/{subdir}/*.msh')]\n",
    "\n",
    "def renderMesh(mesh, outImage):\n",
    "    subprocess.call(['gmsh_offscreen', '-n', 'results/render3.opt', mesh, '-o', outImage])\n",
    "\n",
    "def renderImages(inputName, aspectRatio):\n",
    "    for mesh in meshesForRun(inputName, aspectRatio):\n",
    "        outImage = imageForMesh(mesh)\n",
    "        renderMesh(mesh, imageForMesh(mesh))\n",
    "        \n",
    "def processImages(inputName, aspectRatio):\n",
    "    imgs = []\n",
    "    pngPaths = []\n",
    "    common_bbox = [np.inf, np.inf, -np.inf, -np.inf]\n",
    "    # Resize and determine common clipping box\n",
    "    for mesh in meshesForRun(inputName, aspectRatio):\n",
    "        pngPath = imageForMesh(mesh)\n",
    "        img = Image.open(pngPath)\n",
    "        resized = img.resize([s // 2 for s in img.size], resample=PIL.Image.LANCZOS)\n",
    "        imgs.append(resized)\n",
    "        pngPaths.append(pngPath)\n",
    "        bbox = ImageChops.invert(resized).getbbox()\n",
    "        common_bbox[0] = min(common_bbox[0], bbox[0])\n",
    "        common_bbox[1] = min(common_bbox[1], bbox[1])\n",
    "        common_bbox[2] = max(common_bbox[2], bbox[2])\n",
    "        common_bbox[3] = max(common_bbox[3], bbox[3])\n",
    "        # print(common_bbox)\n",
    "    # Expand bbox to nearest even coordinates\n",
    "    common_bbox[0] = 2 * ( common_bbox[0]      // 2)\n",
    "    common_bbox[1] = 2 * ( common_bbox[1]      // 2)\n",
    "    common_bbox[2] = 2 * ((common_bbox[2] + 1) // 2)\n",
    "    common_bbox[3] = 2 * ((common_bbox[3] + 1) // 2)\n",
    "    # Crop and save\n",
    "    for img, path in zip(imgs, pngPaths):\n",
    "        img.crop(common_bbox).save(path + '.processed.png')\n",
    "\n",
    "def genMovies(inputName, aspectRatio):\n",
    "    resultsDir = resultsDirForRun(inputName, aspectRatio)\n",
    "    for movie in ['equilibrium', 'close']:\n",
    "        subprocess.call(['ffmpeg', '-y', '-f', 'image2', '-framerate', '24',\n",
    "                         '-i', f'{resultsDir}/{movie}Frames/frame_%d.png.processed.png',\n",
    "                         '-c:v', 'libx264',\n",
    "                         '-preset', 'veryslow',\n",
    "                         '-qp', '18',\n",
    "                         '-pix_fmt', 'yuv420p',\n",
    "                         f'{resultsDir}/{movie}.mp4'])"
   ]
  },
  {
   "cell_type": "markdown",
   "metadata": {},
   "source": [
    "## Also render the pre/post restlength solves (keep in higher resolution) + convert mesh"
   ]
  },
  {
   "cell_type": "code",
   "execution_count": null,
   "metadata": {},
   "outputs": [],
   "source": [
    "def rreplace(s, old, new, count = 1):\n",
    "    li = s.rsplit(old, count)\n",
    "    return new.join(li)\n",
    "\n",
    "def renderAndConvertInitialMeshes(inputName, aspectRatio):\n",
    "    resultsDir = resultsDirForRun(inputName, aspectRatio)\n",
    "    for i in ['pre', 'post']:\n",
    "        mshPath = f'{resultsDir}/{i}_restlen_solve.msh'\n",
    "        imgPath = f'{resultsDir}/{i}_restlen_solve.png'\n",
    "        renderMesh(mshPath, imgPath)\n",
    "        img = Image.open(imgPath)\n",
    "        img.crop(ImageChops.invert(img).getbbox()).save(imgPath)\n",
    "        subprocess.call(['mesh_convert', mshPath, rreplace(mshPath, 'msh', 'obj')])"
   ]
  },
  {
   "cell_type": "markdown",
   "metadata": {},
   "source": [
    "### Do it in parallel..."
   ]
  },
  {
   "cell_type": "code",
   "execution_count": null,
   "metadata": {
    "scrolled": true
   },
   "outputs": [],
   "source": [
    "from multiprocessing import Pool\n",
    "def processAspectRatio(aspect):\n",
    "    for structure in ['scherk_1_good_relaxed_x_cleaned', 'scherk_1_good_x_cleaned']:\n",
    "        renderImages (structure, aspect)\n",
    "        processImages(structure, aspect)\n",
    "        genMovies    (structure, aspect)\n",
    "        renderAndConvertInitialMeshes(structure, aspect)\n",
    "        \n",
    "with Pool(3) as p:\n",
    "    p.map(processAspectRatio, [5, 10, 20])"
   ]
  },
  {
   "cell_type": "markdown",
   "metadata": {},
   "source": [
    "## Generate html reports"
   ]
  },
  {
   "cell_type": "code",
   "execution_count": null,
   "metadata": {},
   "outputs": [],
   "source": [
    "def htmlReportString(structure, aspect_ratio):\n",
    "    mview, deployment_mview, lambdas, dstiff = results[(structure, aspect_ratio)]\n",
    "    modeString = ''\n",
    "    if (aspect_ratio != 20):\n",
    "        lambda0 = lambdas[0] \n",
    "        lambda1 = lambdas[1] \n",
    "        modeString=f'''\n",
    "    Lowest energy modes:<br>\n",
    "        <a href='../../mode_viewers/{structure}_{aspect_ratio}_0.html'>mode 0 (stiffness = {lambda0:0.4f}MPa)</a><br>\n",
    "        <a href='../../mode_viewers/{structure}_{aspect_ratio}_1.html'>mode 1 (stiffness = {lambda1:0.4f}MPa)</a><br><br>\n",
    "        '''\n",
    "        \n",
    "    return f'''<html>\n",
    "<head>\n",
    "    <title>{structure}, ribbon aspect ratio {aspect_ratio}</title>\n",
    "</head>\n",
    "<body>\n",
    "    <h2>{structure}, ribbon aspect ratio {aspect_ratio}</h2>\n",
    "    <table>\n",
    "        <tr>\n",
    "            <td><img src=\"pre_restlen_solve.png\" width=384> </td>\n",
    "            <td><img src=\"post_restlen_solve.png\" width=384></td>\n",
    "        </tr>\n",
    "        <tr>\n",
    "            <td align='center'>Pre rest length solve (<a href='pre_restlen_solve.obj'>download obj</a>)</td>\n",
    "            <td align='center'>Post rest length solve (<a href='post_restlen_solve.obj'>download obj</a>)</td>\n",
    "        </tr>\n",
    "\n",
    "        <tr>\n",
    "            <td>\n",
    "                <video controls width=\"512\">\n",
    "                    <source src=\"equilibrium.mp4\" type=\"video/mp4\">\n",
    "                    Sorry, your browser doesn't support embedded videos.\n",
    "                </video>\n",
    "            </td>\n",
    "            <td>\n",
    "                <video controls width=\"512\">\n",
    "                    <source src=\"close.mp4\" type=\"video/mp4\">\n",
    "                    Sorry, your browser doesn't support embedded videos.\n",
    "                </video>\n",
    "            </td>\n",
    "        <tr>\n",
    "            <td align=\"center\">\n",
    "                Equilibrium solve\n",
    "            </td>\n",
    "            <td align=\"center\">\n",
    "                Closing simulation (quasi-static)\n",
    "            </td>\n",
    "        </tr>\n",
    "    </table>\n",
    "    <br><br>\n",
    "\n",
    "    <img src=\"close_path_energy.png\" width=512>\n",
    "    <br><br>\n",
    "    {modeString}\n",
    "    <a href='../../mode_viewers/{structure}_{aspect_ratio}_close.html'>Closing mode (stiffness = {dstiff:0.4f}MPa)</a><br><br>\n",
    "</body>\n",
    "</html>'''\n",
    "def writeHTMLReport(structure, aspect_ratio):\n",
    "    resultDir = resultsDirForRun(structure, aspect_ratio)\n",
    "    print(htmlReportString(structure, aspect_ratio), file=open(f'{resultDir}/report.html', 'w'))"
   ]
  },
  {
   "cell_type": "code",
   "execution_count": null,
   "metadata": {},
   "outputs": [],
   "source": [
    "for structure in ['scherk_1_good_relaxed_x_cleaned', 'scherk_1_good_x_cleaned']:\n",
    "    for aspectRatio in [5, 10, 20]:\n",
    "        writeHTMLReport(structure, aspectRatio)"
   ]
  },
  {
   "cell_type": "markdown",
   "metadata": {},
   "source": [
    "## Manually output mode viewers."
   ]
  },
  {
   "cell_type": "code",
   "execution_count": null,
   "metadata": {},
   "outputs": [],
   "source": [
    "mview, deployment_mview, lambdas, dstiff = results[('scherk_1_good_relaxed_x_cleaned', 20)]"
   ]
  },
  {
   "cell_type": "code",
   "execution_count": null,
   "metadata": {},
   "outputs": [],
   "source": [
    "mview.exportHTML('results/mode_viewers/scherk_1_good_x_cleaned_10_1.html')"
   ]
  },
  {
   "cell_type": "code",
   "execution_count": null,
   "metadata": {},
   "outputs": [],
   "source": [
    "deployment_mview.exportHTML('results/mode_viewers/scherk_1_good_relaxed_x_cleaned_20_close.html')"
   ]
  }
 ],
 "metadata": {
  "kernelspec": {
   "display_name": "Python 3",
   "language": "python",
   "name": "python3"
  },
  "language_info": {
   "codemirror_mode": {
    "name": "ipython",
    "version": 3
   },
   "file_extension": ".py",
   "mimetype": "text/x-python",
   "name": "python",
   "nbconvert_exporter": "python",
   "pygments_lexer": "ipython3",
   "version": "3.6.9"
  }
 },
 "nbformat": 4,
 "nbformat_minor": 4
}

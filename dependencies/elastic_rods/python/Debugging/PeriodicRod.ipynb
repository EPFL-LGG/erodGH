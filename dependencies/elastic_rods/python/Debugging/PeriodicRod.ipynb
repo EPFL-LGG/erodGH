{
 "cells": [
  {
   "cell_type": "code",
   "execution_count": 5,
   "metadata": {},
   "outputs": [],
   "source": [
    "import sys\n",
    "sys.path.append('..')\n",
    "import elastic_rods\n",
    "import numpy as np\n",
    "from typing import NamedTuple\n",
    "from bending_validation import suppress_stdout as so"
   ]
  },
  {
   "cell_type": "code",
   "execution_count": 6,
   "metadata": {},
   "outputs": [],
   "source": [
    "npts = 100"
   ]
  },
  {
   "cell_type": "code",
   "execution_count": 7,
   "metadata": {},
   "outputs": [
    {
     "name": "stdout",
     "output_type": "stream",
     "text": [
      "[0.         0.06411414 0.12822827 0.19234241 0.25645654 0.32057068\n",
      " 0.38468481 0.44879895 0.51291309 0.57702722 0.64114136 0.70525549\n",
      " 0.76936963 0.83348377 0.8975979  0.96171204 1.02582617 1.08994031\n",
      " 1.15405444 1.21816858 1.28228272 1.34639685 1.41051099 1.47462512\n",
      " 1.53873926 1.60285339 1.66696753 1.73108167 1.7951958  1.85930994\n",
      " 1.92342407 1.98753821 2.05165235 2.11576648 2.17988062 2.24399475\n",
      " 2.30810889 2.37222302 2.43633716 2.5004513  2.56456543 2.62867957\n",
      " 2.6927937  2.75690784 2.82102197 2.88513611 2.94925025 3.01336438\n",
      " 3.07747852 3.14159265 3.20570679 3.26982093 3.33393506 3.3980492\n",
      " 3.46216333 3.52627747 3.5903916  3.65450574 3.71861988 3.78273401\n",
      " 3.84684815 3.91096228 3.97507642 4.03919055 4.10330469 4.16741883\n",
      " 4.23153296 4.2956471  4.35976123 4.42387537 4.48798951 4.55210364\n",
      " 4.61621778 4.68033191 4.74444605 4.80856018 4.87267432 4.93678846\n",
      " 5.00090259 5.06501673 5.12913086 5.193245   5.25735913 5.32147327\n",
      " 5.38558741 5.44970154 5.51381568 5.57792981 5.64204395 5.70615809\n",
      " 5.77027222 5.83438636 5.89850049 5.96261463 6.02672876 6.0908429\n",
      " 6.15495704 6.21907117 0.         0.06411414]\n"
     ]
    }
   ],
   "source": [
    "t = np.linspace(0, 2 * np.pi, npts-2, endpoint=False)\n",
    "t = np.concatenate([t, t[0:2]])\n",
    "\n",
    "print(t)"
   ]
  },
  {
   "cell_type": "code",
   "execution_count": null,
   "metadata": {},
   "outputs": [],
   "source": [
    "R = 40\n",
    "pts = np.column_stack([R * np.cos(t), R * np.sin(t), np.zeros_like(t)])"
   ]
  },
  {
   "cell_type": "code",
   "execution_count": null,
   "metadata": {},
   "outputs": [],
   "source": [
    "pr = elastic_rods.PeriodicRod(pts, True)\n",
    "pr.setMaterial(elastic_rods.RodMaterial('rectangle', 4.0e10 / 1e6, 0.3, [1, 1], stiffAxis=elastic_rods.StiffAxis.D2))"
   ]
  },
  {
   "cell_type": "code",
   "execution_count": null,
   "metadata": {},
   "outputs": [],
   "source": [
    "dc = pr.rod.deformedConfiguration()"
   ]
  },
  {
   "cell_type": "code",
   "execution_count": null,
   "metadata": {},
   "outputs": [],
   "source": [
    "Hsp = pr.hessianSparsityPattern(1.0)"
   ]
  },
  {
   "cell_type": "code",
   "execution_count": null,
   "metadata": {},
   "outputs": [],
   "source": [
    "import linkage_vis, vis\n",
    "import matplotlib"
   ]
  },
  {
   "cell_type": "code",
   "execution_count": null,
   "metadata": {},
   "outputs": [],
   "source": [
    "import time\n",
    "def updateView():\n",
    "    v.update()\n",
    "    time.sleep(0.01)\n",
    "    cv2.update(vectorField=np.array([d.d2 for d in dc.materialFrame]))\n",
    "    refVF = vis.fields.VectorField(cv.mesh, np.array([d.d2 for d in dc.referenceDirectors]), colormap=matplotlib.cm.cool_r, glyph=vis.fields.VectorGlyph.CYLINDER)\n",
    "    cv.update(vectorField=refVF)"
   ]
  },
  {
   "cell_type": "code",
   "execution_count": null,
   "metadata": {},
   "outputs": [],
   "source": [
    "v = linkage_vis.LinkageViewer(pr, width=1200, height=720)\n",
    "cv = linkage_vis.CenterlineViewer(pr.rod, superView=v, vectorField=np.array([d.d2 for d in dc.referenceDirectors]))\n",
    "cv2 = linkage_vis.CenterlineViewer(pr.rod, superView=v, vectorField=np.array([d.d2 for d in dc.materialFrame]))\n",
    "v.show()"
   ]
  },
  {
   "cell_type": "code",
   "execution_count": null,
   "metadata": {},
   "outputs": [],
   "source": [
    "pr.twist = 16 * np.pi\n",
    "\n",
    "with so(): elastic_rods.compute_equilibrium(pr, fixedVars=[pr.numDoF()-1, pr.thetaOffset(), 0, 1, 2, 3, 4, 5], callback=lambda prob, i: updateView())"
   ]
  },
  {
   "cell_type": "markdown",
   "metadata": {},
   "source": [
    "# Finite Difference Validation"
   ]
  },
  {
   "cell_type": "code",
   "execution_count": null,
   "metadata": {},
   "outputs": [],
   "source": [
    "import fd_validation"
   ]
  },
  {
   "cell_type": "code",
   "execution_count": null,
   "metadata": {},
   "outputs": [],
   "source": [
    "class FDWrapper:\n",
    "    def __init__(self, rod):\n",
    "        self.rod = rod\n",
    "    def numVars(self): return self.rod.numDoF()\n",
    "    def getVars(self): return self.rod.getDoFs()\n",
    "    def setVars(self, x): return self.rod.setDoFs(x)\n",
    "    def energy(self): return self.rod.energy()\n",
    "    def gradient(self): return self.rod.gradient(updatedSource=False)\n",
    "    def hessian(self): return self.rod.hessian()"
   ]
  },
  {
   "cell_type": "code",
   "execution_count": null,
   "metadata": {},
   "outputs": [],
   "source": [
    "pr.setDoFs(pr.getDoFs() + 1e-3 * fd_validation.genPerturbation(pr.getDoFs()))\n",
    "pr.rod.updateSourceFrame()"
   ]
  },
  {
   "cell_type": "code",
   "execution_count": null,
   "metadata": {},
   "outputs": [],
   "source": [
    "fd_validation.gradConvergencePlot(FDWrapper(pr))"
   ]
  },
  {
   "cell_type": "code",
   "execution_count": null,
   "metadata": {},
   "outputs": [],
   "source": [
    "fd_validation.hessConvergencePlot(FDWrapper(pr.rod))"
   ]
  },
  {
   "cell_type": "code",
   "execution_count": null,
   "metadata": {},
   "outputs": [],
   "source": [
    "wpr = FDWrapper(pr)\n",
    "fd_validation.hessConvergencePlot(wpr, perturb=fd_validation.basisDirection(wpr, 0))"
   ]
  }
 ],
 "metadata": {
  "kernelspec": {
   "display_name": "Python 3",
   "language": "python",
   "name": "python3"
  },
  "language_info": {
   "codemirror_mode": {
    "name": "ipython",
    "version": 3
   },
   "file_extension": ".py",
   "mimetype": "text/x-python",
   "name": "python",
   "nbconvert_exporter": "python",
   "pygments_lexer": "ipython3",
   "version": "3.8.5"
  }
 },
 "nbformat": 4,
 "nbformat_minor": 4
}

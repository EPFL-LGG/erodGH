{
 "cells": [
  {
   "cell_type": "code",
   "execution_count": null,
   "metadata": {},
   "outputs": [],
   "source": [
    "import sys; sys.path.append('..')\n",
    "import numpy as np, elastic_rods\n",
    "from bending_validation import suppress_stdout\n",
    "from linkage_vis import LinkageViewer\n",
    "\n",
    "l = elastic_rods.RodLinkage('../../examples/etienne_hyperboloid_measured.obj')\n",
    "driver=l.centralJoint()"
   ]
  },
  {
   "cell_type": "code",
   "execution_count": null,
   "metadata": {},
   "outputs": [],
   "source": [
    "crossSection = 0\n",
    "openingSteps = 60\n",
    "mat = elastic_rods.RodMaterial('+', 2000, 0.3, [10, 10, 1, 1])\n",
    "l.setMaterial(mat)\n",
    "with suppress_stdout(): elastic_rods.restlen_solve(l)\n",
    "jdo = l.dofOffsetForJoint(driver)\n",
    "fixedVars = list(range(jdo, jdo + 6)) # fix rigid motion for a single joint\n",
    "with suppress_stdout(): elastic_rods.compute_equilibrium(l, fixedVars=fixedVars)\n",
    "\n",
    "view = LinkageViewer(l, width=1024, height=768, labelOffset=-0.5)\n",
    "view.show()"
   ]
  },
  {
   "cell_type": "code",
   "execution_count": null,
   "metadata": {},
   "outputs": [],
   "source": [
    "from open_linkage import open_linkage\n",
    "def equilibriumSolver(tgtAngle, l, opts, fv):\n",
    "    opts.beta = 1e-8\n",
    "    opts.gradTol = 1e-8\n",
    "    opts.niter = 200\n",
    "    opts.useIdentityMetric = False\n",
    "    opts.useNegativeCurvatureDirection = True\n",
    "    return elastic_rods.compute_equilibrium(l, tgtAngle, options=opts, fixedVars=fv)"
   ]
  },
  {
   "cell_type": "code",
   "execution_count": null,
   "metadata": {},
   "outputs": [],
   "source": [
    "with suppress_stdout(): open_linkage(l, driver, 1.0 * np.pi /16 - l.averageJointAngle, 3, view, zPerturbationEpsilon=0, equilibriumSolver=equilibriumSolver, maxNewtonIterationsIntermediate=30, verbose=True, useTargetAngleConstraint=True)"
   ]
  },
  {
   "cell_type": "code",
   "execution_count": null,
   "metadata": {},
   "outputs": [],
   "source": [
    "mkdir indefinite_frames"
   ]
  },
  {
   "cell_type": "code",
   "execution_count": null,
   "metadata": {},
   "outputs": [],
   "source": [
    "with suppress_stdout(): results = open_linkage(l, driver, 2 * np.pi / 16, openingSteps, view, zPerturbationEpsilon=0, equilibriumSolver=equilibriumSolver, maxNewtonIterationsIntermediate=30, verbose=True, useTargetAngleConstraint=True, outPathFormat='indefinite_frames/frame_{}.msh')"
   ]
  },
  {
   "cell_type": "code",
   "execution_count": null,
   "metadata": {},
   "outputs": [],
   "source": [
    "cr = results[0][0]"
   ]
  },
  {
   "cell_type": "code",
   "execution_count": null,
   "metadata": {},
   "outputs": [],
   "source": [
    "bendingEnergies = [cr.customData[-1]['energy_bend'] for cr in results[0]]\n",
    "twistingEnergies = [cr.customData[-1]['energy_twist'] for cr in results[0]]\n",
    "fullEnergy = [cr.energy[-1] for cr in results[0]]"
   ]
  },
  {
   "cell_type": "code",
   "execution_count": null,
   "metadata": {},
   "outputs": [],
   "source": [
    "l.energy()"
   ]
  },
  {
   "cell_type": "code",
   "execution_count": null,
   "metadata": {},
   "outputs": [],
   "source": [
    "from matplotlib import pyplot as plt\n",
    "plt.plot(bendingEnergies)\n",
    "plt.plot(twistingEnergies)\n",
    "plt.plot(fullEnergy)"
   ]
  },
  {
   "cell_type": "code",
   "execution_count": null,
   "metadata": {},
   "outputs": [],
   "source": [
    "mkdir indefinite_frames"
   ]
  },
  {
   "cell_type": "code",
   "execution_count": null,
   "metadata": {},
   "outputs": [],
   "source": [
    "from matplotlib import pyplot as plt\n",
    "import matplotlib\n",
    "\n",
    "for i in range(1, 61):\n",
    "    plt.figure(figsize=(9, 6))\n",
    "    plt.plot(bendingEnergies[1:-1], linewidth=3)\n",
    "    plt.plot(twistingEnergies[1:-1], linewidth=3)\n",
    "    plt.plot(fullEnergy[1:-1], linewidth=3)\n",
    "    plt.gca().add_artist(matplotlib.patches.Ellipse((i - 1, bendingEnergies[i]), 1.5, 2.8 * 1.5, color='C0'))\n",
    "    plt.gca().add_artist(matplotlib.patches.Ellipse((i - 1, twistingEnergies[i]), 1.5, 2.8 * 1.5, color='C1'))\n",
    "    plt.gca().add_artist(matplotlib.patches.Ellipse((i - 1, fullEnergy[i]), 1.5, 2.8 * 1.5, color='C2'))\n",
    "    plt.tight_layout()\n",
    "    plt.savefig(f'indefinite_frames/plot_{i - 1}.png')\n",
    "    plt.close()"
   ]
  },
  {
   "cell_type": "markdown",
   "metadata": {},
   "source": [
    "# In plane stretch and mode vibration"
   ]
  },
  {
   "cell_type": "code",
   "execution_count": null,
   "metadata": {},
   "outputs": [],
   "source": [
    "import sys; sys.path.append('..')\n",
    "import numpy as np, elastic_rods\n",
    "from bending_validation import suppress_stdout\n",
    "from linkage_vis import LinkageViewer\n",
    "\n",
    "l = elastic_rods.RodLinkage('../../examples/etienne_hyperboloid_measured.obj')\n",
    "driver=l.centralJoint()"
   ]
  },
  {
   "cell_type": "code",
   "execution_count": null,
   "metadata": {},
   "outputs": [],
   "source": [
    "crossSection = 0\n",
    "openingSteps = 60\n",
    "mat = elastic_rods.RodMaterial('+', 2000, 0.3, [10, 10, 1, 1])\n",
    "l.setMaterial(mat)\n",
    "with suppress_stdout(): elastic_rods.restlen_solve(l)\n",
    "jdo = l.dofOffsetForJoint(driver)\n",
    "fixedVars = list(range(jdo, jdo + 6)) # fix rigid motion for a single joint\n",
    "with suppress_stdout(): elastic_rods.compute_equilibrium(l, fixedVars=fixedVars)\n",
    "\n",
    "view = LinkageViewer(l, width=1024, height=768, labelOffset=-0.5)\n",
    "view.show()"
   ]
  },
  {
   "cell_type": "code",
   "execution_count": null,
   "metadata": {},
   "outputs": [],
   "source": [
    "from open_linkage import open_linkage\n",
    "def equilibriumSolver(tgtAngle, l, opts, fv):\n",
    "    opts.beta = 1e-8\n",
    "    opts.gradTol = 1e-8\n",
    "    opts.niter = 200\n",
    "    opts.useIdentityMetric = False\n",
    "    opts.useNegativeCurvatureDirection = True\n",
    "    return elastic_rods.compute_equilibrium(l, tgtAngle, options=opts, fixedVars=fv)"
   ]
  },
  {
   "cell_type": "code",
   "execution_count": null,
   "metadata": {},
   "outputs": [],
   "source": [
    "view.update()"
   ]
  },
  {
   "cell_type": "code",
   "execution_count": null,
   "metadata": {},
   "outputs": [],
   "source": [
    "with suppress_stdout(): open_linkage(l, driver, 0.5 * np.pi /16 - l.averageJointAngle, 3, view, zPerturbationEpsilon=0, equilibriumSolver=equilibriumSolver, maxNewtonIterationsIntermediate=30, verbose=True, useTargetAngleConstraint=True)"
   ]
  },
  {
   "cell_type": "code",
   "execution_count": null,
   "metadata": {},
   "outputs": [],
   "source": [
    "mkdir stretch_to_indefinite"
   ]
  },
  {
   "cell_type": "code",
   "execution_count": null,
   "metadata": {},
   "outputs": [],
   "source": [
    "open_linkage(l, driver, 1.55 * np.pi /16 - l.averageJointAngle, 200, None, zPerturbationEpsilon=0, equilibriumSolver=equilibriumSolver, maxNewtonIterationsIntermediate=30, verbose=True, useTargetAngleConstraint=True, outPathFormat='stretch_to_indefinite/frame_{}.msh')"
   ]
  },
  {
   "cell_type": "code",
   "execution_count": null,
   "metadata": {},
   "outputs": [],
   "source": [
    "H = l.hessian()"
   ]
  },
  {
   "cell_type": "code",
   "execution_count": null,
   "metadata": {},
   "outputs": [],
   "source": [
    "import compute_vibrational_modes\n",
    "lambdas, full_modes = compute_vibrational_modes.compute_vibrational_modes(l, fixedVars, compute_vibrational_modes.MassMatrixType.FULL)"
   ]
  },
  {
   "cell_type": "code",
   "execution_count": null,
   "metadata": {},
   "outputs": [],
   "source": [
    "lambdas"
   ]
  },
  {
   "cell_type": "code",
   "execution_count": null,
   "metadata": {},
   "outputs": [],
   "source": [
    "import mode_viewer\n",
    "mview = mode_viewer.ModeViewer(l, full_modes, lambdas, amplitude=0.5)\n",
    "mview.show()"
   ]
  },
  {
   "cell_type": "code",
   "execution_count": null,
   "metadata": {},
   "outputs": [],
   "source": [
    "currDoFs = l.getDoFs()"
   ]
  },
  {
   "cell_type": "code",
   "execution_count": null,
   "metadata": {},
   "outputs": [],
   "source": [
    "l.setDoFs(currDoFs)"
   ]
  },
  {
   "cell_type": "code",
   "execution_count": null,
   "metadata": {},
   "outputs": [],
   "source": [
    "mkdir mode_frames"
   ]
  },
  {
   "cell_type": "code",
   "execution_count": null,
   "metadata": {},
   "outputs": [],
   "source": [
    "modeVector = full_modes[:, 0]\n",
    "paramVelocity = l.approxLinfVelocity(modeVector)\n",
    "normalizedOffset = modeVector * (l.characteristicLength() / paramVelocity)\n",
    "for i, t in enumerate(np.linspace(0, 2 * np.pi, 60)):\n",
    "    l.setDoFs(currDoFs + 0.5 * np.sin(t) * normalizedOffset)\n",
    "    l.saveVisualizationGeometry(f'mode_frames/frame_{i}.msh', averagedMaterialFrames=True)"
   ]
  },
  {
   "cell_type": "code",
   "execution_count": null,
   "metadata": {},
   "outputs": [],
   "source": [
    "mview.setAmplitude(1)"
   ]
  },
  {
   "cell_type": "code",
   "execution_count": null,
   "metadata": {},
   "outputs": [],
   "source": [
    "mkdir indefinite_frames"
   ]
  },
  {
   "cell_type": "code",
   "execution_count": null,
   "metadata": {},
   "outputs": [],
   "source": [
    "with suppress_stdout(): results = open_linkage(l, driver, 2 * np.pi / 16, openingSteps, view, zPerturbationEpsilon=0, equilibriumSolver=equilibriumSolver, maxNewtonIterationsIntermediate=30, verbose=True, useTargetAngleConstraint=True, outPathFormat='indefinite_frames/frame_{}.msh')"
   ]
  }
 ],
 "metadata": {
  "kernelspec": {
   "display_name": "Python 3",
   "language": "python",
   "name": "python3"
  },
  "language_info": {
   "codemirror_mode": {
    "name": "ipython",
    "version": 3
   },
   "file_extension": ".py",
   "mimetype": "text/x-python",
   "name": "python",
   "nbconvert_exporter": "python",
   "pygments_lexer": "ipython3",
   "version": "3.6.9"
  }
 },
 "nbformat": 4,
 "nbformat_minor": 4
}

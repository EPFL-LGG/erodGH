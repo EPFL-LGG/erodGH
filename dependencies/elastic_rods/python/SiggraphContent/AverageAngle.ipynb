{
 "cells": [
  {
   "cell_type": "code",
   "execution_count": null,
   "metadata": {},
   "outputs": [],
   "source": [
    "import sys; sys.path.append('..')\n",
    "import numpy as np, elastic_rods\n",
    "from bending_validation import suppress_stdout\n",
    "from linkage_vis import LinkageViewer\n",
    "from open_linkage import open_linkage\n",
    "\n",
    "l = elastic_rods.RodLinkage('../examples/optimized/data/AsymmWingsPointy/1935b524-e979-4340-9245-326f69b6eae0.obj')\n",
    "mat = elastic_rods.RodMaterial('Rectangle', 20000, 0.3, [12,8], stiffAxis=elastic_rods.StiffAxis.D1)\n",
    "l.setMaterial(mat)\n",
    "\n",
    "l.setPerSegmentRestLength(np.loadtxt('../examples/optimized/data/AsymmWingsPointy/design_parameters.txt'))\n",
    "\n",
    "driver = l.centralJoint()\n",
    "jdo = l.dofOffsetForJoint(driver)\n",
    "\n",
    "fixedVars = list(range(jdo, jdo + 6)) # fix rigid motion for a single joint\n",
    "with suppress_stdout(): elastic_rods.compute_equilibrium(l, fixedVars=fixedVars)\n",
    "view = LinkageViewer(l, width=1024, labelOffset=-0.5)\n",
    "view.setCameraParams(((0.4075185454716348, 3.1892642201046715, 0.3099480992441177),\n",
    " (0.15364528336486324, 0.2839547329660347, 0.9464474821805594),\n",
    " (0.0, 0.0, 0.0)))\n",
    "view.show()"
   ]
  },
  {
   "cell_type": "code",
   "execution_count": null,
   "metadata": {},
   "outputs": [],
   "source": [
    "def equilibriumSolver(tgtAngle, l, opts, fv):\n",
    "    opts.beta = 1e-8\n",
    "    opts.gradTol = 1e-4\n",
    "    opts.niter = 100\n",
    "    opts.useIdentityMetric = False\n",
    "    return elastic_rods.compute_equilibrium(l, tgtAngle, options=opts, fixedVars=fv)"
   ]
  },
  {
   "cell_type": "code",
   "execution_count": null,
   "metadata": {},
   "outputs": [],
   "source": [
    "open_linkage(l, driver, np.deg2rad(113) - l.averageJointAngle, 50, view, zPerturbationEpsilon=0, equilibriumSolver=equilibriumSolver, maxNewtonIterationsIntermediate=20, verbose=10, useTargetAngleConstraint=True);\n",
    "# open_linkage(l, driver, np.deg2rad(183) - l.averageJointAngle, 50, view, zPerturbationEpsilon=0, equilibriumSolver=equilibriumSolver, maxNewtonIterationsIntermediate=20, verbose=10, useTargetAngleConstraint=False);"
   ]
  },
  {
   "cell_type": "code",
   "execution_count": null,
   "metadata": {},
   "outputs": [],
   "source": [
    "mkdir average_angle_deploy"
   ]
  },
  {
   "cell_type": "code",
   "execution_count": null,
   "metadata": {},
   "outputs": [],
   "source": [
    "from matplotlib import pyplot as plt\n",
    "angles = np.linspace(0.3750346, np.deg2rad(113), 240)\n",
    "for i, angle in enumerate(angles):\n",
    "    with suppress_stdout(): open_linkage(l, driver, angle - l.averageJointAngle, 1, None, zPerturbationEpsilon=0, equilibriumSolver=equilibriumSolver, maxNewtonIterationsIntermediate=20, verbose=10, useTargetAngleConstraint=True);\n",
    "    l.saveVisualizationGeometry(f'average_angle_deploy/frame_{i}.msh', averagedMaterialFrames=True)\n",
    "    \n",
    "    jointAngles = np.rad2deg(l.getDoFs()[l.jointAngleDoFIndices()])\n",
    "    plt.figure(figsize=(9,6))\n",
    "    plt.hist(jointAngles, range=[0, 180], bins=50)\n",
    "    plt.ylim(0, 65)\n",
    "    plt.gca().axvline(linewidth=4, x=np.rad2deg(angle), color='black')\n",
    "    plt.tight_layout()\n",
    "    plt.savefig(f'average_angle_deploy/hist_{i}.png')\n",
    "    plt.close()"
   ]
  },
  {
   "cell_type": "code",
   "execution_count": null,
   "metadata": {},
   "outputs": [],
   "source": [
    "jointAngles = np.rad2deg(l.getDoFs()[l.jointAngleDoFIndices()])\n",
    "open_linkage(l, driver, np.deg2rad(113) - l.averageJointAngle, 50, view, zPerturbationEpsilon=0, equilibriumSolver=equilibriumSolver, maxNewtonIterationsIntermediate=20, verbose=10, useTargetAngleConstraint=True);"
   ]
  },
  {
   "cell_type": "code",
   "execution_count": null,
   "metadata": {},
   "outputs": [],
   "source": [
    "from matplotlib import pyplot as plt\n",
    "plt.figure(figsize=(9,6))\n",
    "plt.hist(jointAngles, range=[0, 180], bins=50)\n",
    "plt.ylim(0, 65)\n",
    "plt.gca().axvline(linewidth=4, x=100, color='black')\n",
    "plt.tight_layout()"
   ]
  }
 ],
 "metadata": {
  "kernelspec": {
   "display_name": "Python 3",
   "language": "python",
   "name": "python3"
  },
  "language_info": {
   "codemirror_mode": {
    "name": "ipython",
    "version": 3
   },
   "file_extension": ".py",
   "mimetype": "text/x-python",
   "name": "python",
   "nbconvert_exporter": "python",
   "pygments_lexer": "ipython3",
   "version": "3.6.9"
  }
 },
 "nbformat": 4,
 "nbformat_minor": 4
}

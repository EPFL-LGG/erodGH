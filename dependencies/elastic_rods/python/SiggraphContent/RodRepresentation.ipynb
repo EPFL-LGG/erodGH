{
 "cells": [
  {
   "cell_type": "code",
   "execution_count": 2,
   "metadata": {},
   "outputs": [
    {
     "name": "stdout",
     "output_type": "stream",
     "text": [
      "Failed to load offscreen viewer: Could not load compiled module; is OffscreenRenderer missing a dependency?\n"
     ]
    }
   ],
   "source": [
    "import sys\n",
    "sys.path.append('..')\n",
    "import numpy as np, elastic_rods, linkage_vis\n",
    "from bending_validation import suppress_stdout as so"
   ]
  },
  {
   "cell_type": "markdown",
   "metadata": {},
   "source": [
    "# Rod representation"
   ]
  },
  {
   "cell_type": "code",
   "execution_count": 3,
   "metadata": {},
   "outputs": [
    {
     "data": {
      "application/vnd.jupyter.widget-view+json": {
       "model_id": "5793a1cf8d4e49a6831015e5bb52e1f5",
       "version_major": 2,
       "version_minor": 0
      },
      "text/plain": [
       "Renderer(camera=PerspectiveCamera(aspect=2.0, children=(PointLight(color='#999999', position=(0.0, 0.0, 5.0), …"
      ]
     },
     "metadata": {},
     "output_type": "display_data"
    }
   ],
   "source": [
    "rodLength = 30\n",
    "nsubdiv = 120\n",
    "npts = nsubdiv + 1\n",
    "\n",
    "pts = np.linspace([-rodLength / 2, 0, 0], [rodLength / 2, 0, 0], nsubdiv)\n",
    "\n",
    "r = elastic_rods.ElasticRod(pts)\n",
    "\n",
    "r.setMaterial(elastic_rods.RodMaterial('rectangle', 200, 0.3, [1, 0.5]))\n",
    "\n",
    "viewer = linkage_vis.LinkageViewer(r, width=1024, height=512)\n",
    "viewer.show()"
   ]
  },
  {
   "cell_type": "code",
   "execution_count": 7,
   "metadata": {},
   "outputs": [
    {
     "name": "stdout",
     "output_type": "stream",
     "text": [
      "[0, 1, 2, 3, 4, 5, 354, 355, 356, 357, 358, 359, 360, 478]\n"
     ]
    }
   ],
   "source": [
    "p = r.deformedPoints()\n",
    "thetas = r.thetas()\n",
    "\n",
    "midptVars = [3 * (npts // 2) + 1, 3 * (npts // 2 + 1) + 1]\n",
    "\n",
    "p[1][1] = rodLength / nsubdiv\n",
    "p[-2][1] = rodLength / nsubdiv\n",
    "p[npts // 2][1] = -5.0\n",
    "p[npts // 2 + 1][1] = -5.0\n",
    "thetas[0] = -np.pi\n",
    "thetas[-1] = np.pi\n",
    "\n",
    "# Compress horizontally to induce buckling\n",
    "for pt in p:\n",
    "    pt[0] *= 0.8\n",
    "\n",
    "r.setDeformedConfiguration(p, thetas)\n",
    "\n",
    "fixedVars = list(range(2 * 3)) + list(range(3 * (r.numVertices() - 2), 3 * r.numVertices())) + [3 * r.numVertices(), r.numDoF() - 1]\n",
    "#fixedVars += midptVars\n",
    "\n",
    "print(fixedVars)\n",
    "#with so(): elastic_rods.compute_equilibrium(r, elastic_rods.NewtonOptimizerOptions(), fixedVars)\n",
    "#viewer.update(False)"
   ]
  },
  {
   "cell_type": "code",
   "execution_count": null,
   "metadata": {},
   "outputs": [],
   "source": [
    "r.saveVisualizationGeometry('example_rod.msh', averagedMaterialFrames=True)"
   ]
  },
  {
   "cell_type": "code",
   "execution_count": null,
   "metadata": {},
   "outputs": [],
   "source": [
    "r.writeDebugData('example_rod_linemesh.msh')"
   ]
  },
  {
   "cell_type": "markdown",
   "metadata": {},
   "source": [
    "# Stretch/bend/twist animations"
   ]
  },
  {
   "cell_type": "code",
   "execution_count": null,
   "metadata": {},
   "outputs": [],
   "source": [
    "from matplotlib import pyplot as plt\n",
    "# Fourier-transformed square wave with a hold at the second peak.\n",
    "x = np.linspace(0, 4.0 / 3.0, 1000)\n",
    "def SMaxZero(x, k): return np.log(np.exp(k * x) + 1) / k\n",
    "def f(x): return SMaxZero((3 / np.pi) * (np.sin(2 * np.pi * x) + np.sin(2 * np.pi * 3 * x) / 3.0), 5)\n",
    "def g(x): return f(3/4 * x - 1/8)\n",
    "def perturbationMagnitude(x):\n",
    "    return np.select([x < 2.0 / 3.0, x < 1.0, x >= 1.0], [g(x), g(2.0 / 3.0), g(x - 1.0 / 3.0)])\n",
    "    \n",
    "plt.plot(x, perturbationMagnitude(x))\n",
    "plt.show()"
   ]
  },
  {
   "cell_type": "code",
   "execution_count": null,
   "metadata": {},
   "outputs": [],
   "source": [
    "import time\n",
    "numFrames = 120\n",
    "\n",
    "rodLength = 15\n",
    "nsubdiv = 120\n",
    "npts = nsubdiv + 1\n",
    "pts = np.linspace([-rodLength / 2, 0, 0], [rodLength / 2, 0, 0], nsubdiv)\n",
    "animated_rod = elastic_rods.ElasticRod(pts)\n",
    "animated_rod.setMaterial(elastic_rods.RodMaterial('rectangle', 200, 0.3, [1, 0.5]))\n",
    "origPts = np.array(animated_rod.deformedPoints())\n",
    "origThetas = animated_rod.thetas()"
   ]
  },
  {
   "cell_type": "code",
   "execution_count": null,
   "metadata": {},
   "outputs": [],
   "source": [
    "preview = linkage_vis.LinkageViewer(animated_rod)\n",
    "preview.show()"
   ]
  },
  {
   "cell_type": "code",
   "execution_count": null,
   "metadata": {},
   "outputs": [],
   "source": [
    "eopts = elastic_rods.NewtonOptimizerOptions()\n",
    "eopts.niter = 1000"
   ]
  },
  {
   "cell_type": "code",
   "execution_count": null,
   "metadata": {},
   "outputs": [],
   "source": [
    "def stretchRod(r, magnitude):\n",
    "    stretchedPts = origPts.copy()\n",
    "    stretchedPts[:, 0] *= 1 + 0.2 * magnitude\n",
    "    r.setDeformedConfiguration(stretchedPts, origThetas)\n",
    "def bendRod(r, magnitude):\n",
    "    nv = r.numVertices()\n",
    "    midPt = nv // 2\n",
    "    bentPoints = origPts.copy()\n",
    "    disp = 3 * magnitude\n",
    "    bentPoints[0, 1] = -disp\n",
    "    bentPoints[midPt, 1] = disp\n",
    "    bentPoints[nv - 1, 1] = -disp\n",
    "    r.setDeformedConfiguration(bentPoints, origThetas)\n",
    "    fixedVars = [1, 3 * midPt + 1, 3 * (nv - 1) + 1]\n",
    "    fixedVars += [3 * midPt, 3 * nv] # pin rigid motion\n",
    "    with so(): elastic_rods.compute_equilibrium(r, eopts, fixedVars)\n",
    "def twistRod(r, magnitude):\n",
    "    nv = r.numVertices()\n",
    "    twistedThetas = np.array(r.thetas()).copy()\n",
    "    twistedThetas[0]  = -magnitude * np.pi\n",
    "    twistedThetas[-1] =  magnitude * np.pi\n",
    "    r.setDeformedConfiguration(origPts, twistedThetas)\n",
    "    fixedVars = [3 * nv, r.numDoF() - 1]\n",
    "    # We actually need to fix the two end edges entirely to prevent\n",
    "    # the rod from exploiting parallel transport to untwist its ends!\n",
    "    fixedVars += [0, 1, 2, 3, 4, 5, 3 * (nv - 2), 3 * (nv - 2) + 1, 3 * (nv - 2) + 2, 3 * (nv - 1), 3 * (nv - 1) + 1, 3 * (nv - 1) + 2] # pin rigid motion\n",
    "    with so(): elastic_rods.compute_equilibrium(r, eopts, fixedVars)\n",
    "    \n",
    "def runAnimation(name, deformer):\n",
    "    for frame, t in enumerate(np.linspace(0, 4.0 / 3.0, numFrames)):\n",
    "        deformer(animated_rod, perturbationMagnitude(t))\n",
    "        preview.update(False)\n",
    "        time.sleep(0.05)\n",
    "        animated_rod.saveVisualizationGeometry(f'{name}_animation/{frame}.obj', averagedMaterialFrames=True)\n",
    "#runAnimation('stretch', stretchRod)\n",
    "#runAnimation('bend', bendRod)\n",
    "runAnimation('twist', twistRod)"
   ]
  },
  {
   "cell_type": "markdown",
   "metadata": {},
   "source": [
    "# Cross-section comparisons"
   ]
  },
  {
   "cell_type": "code",
   "execution_count": null,
   "metadata": {},
   "outputs": [],
   "source": [
    "rectMat = elastic_rods.RodMaterial('rectangle', 200, 0.3, [0.56360235, 0.56360235])\n",
    "plusMat = elastic_rods.RodMaterial('+', 200, 0.3, [1, 1, 0.1, 0.1])\n",
    "\n",
    "print(rectMat.bendingStiffness.lambda_1,  rectMat.bendingStiffness.lambda_2)\n",
    "print(plusMat.bendingStiffness.lambda_1,  plusMat.bendingStiffness.lambda_2)\n",
    "print(rectMat.twistingStiffness, plusMat.twistingStiffness)"
   ]
  },
  {
   "cell_type": "code",
   "execution_count": null,
   "metadata": {},
   "outputs": [],
   "source": [
    "rectMat = elastic_rods.RodMaterial('rectangle', 200, 0.3, [0.33701815, 0.33701815])\n",
    "plusMat = elastic_rods.RodMaterial('+', 200, 0.3, [0.5, 0.5, 0.1, 0.1])\n",
    "\n",
    "print(rectMat.bendingStiffness.lambda_1,  rectMat.bendingStiffness.lambda_2)\n",
    "print(plusMat.bendingStiffness.lambda_1,  plusMat.bendingStiffness.lambda_2)\n",
    "print(rectMat.twistingStiffness, plusMat.twistingStiffness)"
   ]
  },
  {
   "cell_type": "code",
   "execution_count": null,
   "metadata": {},
   "outputs": [],
   "source": [
    "import time\n",
    "rodLength = 5\n",
    "nsubdiv = 120\n",
    "npts = nsubdiv + 1\n",
    "\n",
    "pts = np.linspace([-rodLength / 2, 0, 0], [rodLength / 2, 0, 0], nsubdiv)\n",
    "animated_rod = elastic_rods.ElasticRod(pts)\n",
    "origPts = np.array(animated_rod.deformedPoints())\n",
    "origThetas = animated_rod.thetas()\n",
    "\n",
    "animated_rod.setMaterial(plusMat)"
   ]
  },
  {
   "cell_type": "code",
   "execution_count": null,
   "metadata": {},
   "outputs": [],
   "source": [
    "preview = linkage_vis.LinkageViewer(animated_rod)\n",
    "preview.show()"
   ]
  },
  {
   "cell_type": "code",
   "execution_count": null,
   "metadata": {},
   "outputs": [],
   "source": [
    "eopts = elastic_rods.NewtonOptimizerOptions()"
   ]
  },
  {
   "cell_type": "code",
   "execution_count": null,
   "metadata": {},
   "outputs": [],
   "source": [
    "from numpy.linalg import norm\n",
    "numFrames = 60\n",
    "def bendRod(r, magnitude):\n",
    "    nv = r.numVertices()\n",
    "    midPt = nv // 2\n",
    "    bentPoints = np.array(r.deformedPoints())\n",
    "    disp = magnitude\n",
    "    bentPoints[0, 1] = -disp\n",
    "    bentPoints[midPt, 1] = disp\n",
    "    bentPoints[nv - 1, 1] = -disp\n",
    "    r.setDeformedConfiguration(bentPoints, origThetas)\n",
    "    fixedVars = [1, 3 * midPt + 1, 3 * (nv - 1) + 1]\n",
    "    fixedVars += [3 * midPt, 3 * nv] # pin rigid motion\n",
    "    with so(): elastic_rods.compute_equilibrium(r, eopts, fixedVars)\n",
    "    return norm(r.gradient())\n",
    "\n",
    "def twistRod(r, magnitude):\n",
    "    nv = r.numVertices()\n",
    "    midPt = nv // 2\n",
    "    twistedThetas = np.array(r.thetas())\n",
    "    twistedThetas[0]  = -magnitude\n",
    "    twistedThetas[-1] =  magnitude\n",
    "    r.setDeformedConfiguration(origPts, twistedThetas)\n",
    "    fixedVars = [3 * nv, r.numDoF() - 1]\n",
    "    fixedVars += [0, 1, 2, 3 * (nv - 1), 3 * (nv - 1) + 1, 3 * (nv - 1) + 2] # pin rigid motion\n",
    "    with so(): elastic_rods.compute_equilibrium(r, eopts, fixedVars)\n",
    "    return norm(r.gradient())\n",
    "    \n",
    "def runAnimation(name, deformer, amplitude):\n",
    "    forces = []\n",
    "    for frame, t in enumerate(np.linspace(0, 2 * np.pi, numFrames)):\n",
    "        forces.append(deformer(animated_rod, amplitude * np.sin(t)))\n",
    "        preview.update(False)\n",
    "        time.sleep(0.016)\n",
    "        animated_rod.saveVisualizationGeometry(f'{name}/frame_{frame}.msh', averagedMaterialFrames=True)\n",
    "    return forces\n",
    "animated_rod.setMaterial(plusMat)\n",
    "twistMag = 0.5 * np.pi\n",
    "plus_bend_forces  = runAnimation('plus_bend', bendRod, 0.5)\n",
    "plus_twist_forces = runAnimation('plus_twist', twistRod, twistMag)\n",
    "animated_rod.setMaterial(rectMat)\n",
    "rect_bend_forces  = runAnimation('square_bend', bendRod, 0.5)\n",
    "rect_twist_forces = runAnimation('square_twist', twistRod, (plusMat.twistingStiffness / rectMat.twistingStiffness) * twistMag)"
   ]
  },
  {
   "cell_type": "code",
   "execution_count": null,
   "metadata": {},
   "outputs": [],
   "source": [
    "from matplotlib import pyplot as plt\n",
    "plt.plot(plus_bend_forces)\n",
    "plt.plot(rect_bend_forces)"
   ]
  },
  {
   "cell_type": "code",
   "execution_count": null,
   "metadata": {},
   "outputs": [],
   "source": [
    "from matplotlib import pyplot as plt\n",
    "plt.plot(plus_twist_forces)\n",
    "plt.plot(rect_twist_forces)"
   ]
  }
 ],
 "metadata": {
  "kernelspec": {
   "display_name": "Python 3",
   "language": "python",
   "name": "python3"
  },
  "language_info": {
   "codemirror_mode": {
    "name": "ipython",
    "version": 3
   },
   "file_extension": ".py",
   "mimetype": "text/x-python",
   "name": "python",
   "nbconvert_exporter": "python",
   "pygments_lexer": "ipython3",
   "version": "3.8.5"
  }
 },
 "nbformat": 4,
 "nbformat_minor": 4
}

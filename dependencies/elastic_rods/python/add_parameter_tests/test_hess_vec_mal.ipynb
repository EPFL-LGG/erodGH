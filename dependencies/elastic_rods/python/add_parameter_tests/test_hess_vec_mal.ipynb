{
 "cells": [
  {
   "cell_type": "code",
   "execution_count": null,
   "metadata": {},
   "outputs": [],
   "source": [
    "elastic_rods_dir = '../'\n",
    "weaving_dir = '../../../Weaving/'\n",
    "import os.path as osp\n",
    "import sys; sys.path.append(elastic_rods_dir); sys.path.append(weaving_dir)\n",
    "import numpy as np, elastic_rods, linkage_vis\n",
    "import numpy.linalg as la\n",
    "from bending_validation import suppress_stdout as so\n",
    "import matplotlib.pyplot as plt"
   ]
  },
  {
   "cell_type": "code",
   "execution_count": null,
   "metadata": {},
   "outputs": [],
   "source": [
    "# Reloadable libraries\n",
    "import finite_diff, importlib\n",
    "importlib.reload(finite_diff)\n",
    "from finite_diff import fd_hessian_test, fd_gradient_test, gradient_convergence_plot, hessian_convergence_plot, hessian_convergence_block_plot\n",
    "\n",
    "# weaving\n",
    "import analysis_helper, ribbon_linkage_helper, mesh_vis, linkage_utils, compute_curve_from_curvature, importlib\n",
    "importlib.reload(analysis_helper)\n",
    "importlib.reload(ribbon_linkage_helper)\n",
    "importlib.reload(mesh_vis)\n",
    "importlib.reload(linkage_utils)\n",
    "importlib.reload(compute_curve_from_curvature)\n",
    "from analysis_helper import (compare_turning_angle,\n",
    "                            is_on_sphere, \n",
    "                            get_distance_to_center_scalar_field, \n",
    "                            plot_curvatures, \n",
    "                            get_curvature_scalar_field,\n",
    "                            construct_elastic_rod_loop_from_rod_segments, \n",
    "                            concatenate_rod_properties_from_rod_segments, \n",
    "                            compute_min_distance_rigid_transformation)\n",
    "from ribbon_linkage_helper import (initialize_linkage, \n",
    "                                   update_rest_curvature, \n",
    "                                   set_ribbon_linkage,\n",
    "                                   export_linkage_geometry_to_obj)\n",
    "from compute_curve_from_curvature import (match_geo_curvature_and_edge_len, get_all_curve_pattern)\n",
    "from linkage_utils import order_segments_by_ribbons, get_turning_angle_and_length_from_ordered_rods"
   ]
  },
  {
   "cell_type": "code",
   "execution_count": null,
   "metadata": {},
   "outputs": [],
   "source": [
    "# Sphere Parameters\n",
    "default_camera_parameters = ((3.466009282140468, -4.674139805388271, -2.556131049738206), (-0.21402574298422497, -0.06407538766530313, -0.9747681088523519),(0.1111, 0.1865, 0.5316))\n",
    "RIBBON_CS = [1, 10]\n",
    "ISO_CS = [4, 4]\n",
    "MODEL_PATH = osp.join(weaving_dir, 'models/equal_edge_atI.obj')\n",
    "SUBDIVISION_RESOLUTION = 5"
   ]
  },
  {
   "cell_type": "code",
   "execution_count": null,
   "metadata": {},
   "outputs": [],
   "source": [
    "with so():\n",
    "    dodecahedron_linkage = elastic_rods.RodLinkage(MODEL_PATH, SUBDIVISION_RESOLUTION, False)\n",
    "    driver=dodecahedron_linkage.centralJoint()\n",
    "    dodecahedron_linkage.setMaterial(elastic_rods.RodMaterial('rectangle', 2000, 0.3, RIBBON_CS, stiffAxis=elastic_rods.StiffAxis.D1))\n",
    "#     restlen_solve is broken until the design parameter refactoring is done.\n",
    "    # elastic_rods.restlen_solve(dodecahedron_linkage)\n",
    "    jdo = dodecahedron_linkage.dofOffsetForJoint(driver)\n",
    "    fixedVars = list(range(jdo, jdo + 6)) # fix rigid motion for a single joint\n",
    "    elastic_rods.compute_equilibrium(dodecahedron_linkage, fixedVars=fixedVars)\n",
    "    dodecahedron_view = linkage_vis.LinkageViewer(dodecahedron_linkage, width=1024, height=640)\n",
    "    dodecahedron_view.setCameraParams(default_camera_parameters)\n",
    "# dodecahedron_view.show()\n",
    "\n",
    "strips = order_segments_by_ribbons(dodecahedron_linkage)"
   ]
  },
  {
   "cell_type": "code",
   "execution_count": null,
   "metadata": {},
   "outputs": [],
   "source": [
    "# test rod 1\n",
    "test_rod, fixedVars = construct_elastic_rod_loop_from_rod_segments(dodecahedron_linkage, strips[0])\n",
    "# Set the material of the new rod to be the same as previously.\n",
    "test_rod.setMaterial(elastic_rods.RodMaterial('rectangle', 2000, 0.3, RIBBON_CS, stiffAxis=elastic_rods.StiffAxis.D1))"
   ]
  },
  {
   "cell_type": "code",
   "execution_count": null,
   "metadata": {},
   "outputs": [],
   "source": [
    "# # test rod 2\n",
    "# centerline_pos = np.array([[0, 0, 0], [1, 0, 0], [2.1, 0, 0], [3, 0, 0]])\n",
    "# deformed_centerline_pos = np.array([[0, 0, 0],[1, 0, 0],[1 + 0.6 * np.sqrt(0.5),  0.6 * np.sqrt(0.5), 0],[2 + 0.6 * np.sqrt(0.5),  0.6 * np.sqrt(0.5), 0]])\n",
    "# test_rod = elastic_rods.ElasticRod(centerline_pos)\n",
    "# test_rod.setDeformedConfiguration(deformed_centerline_pos, np.array([0, np.pi / 6.0, np.pi / 6.0]))\n",
    "# test_rod.setMaterial(elastic_rods.RodMaterial('ellipse', 200, 0.3, (0.1, 0.05), stiffAxis = elastic_rods.StiffAxis.D1))"
   ]
  },
  {
   "cell_type": "code",
   "execution_count": null,
   "metadata": {},
   "outputs": [],
   "source": [
    "# The Hessian formulas are only accurate with an updated source frame.\n",
    "test_rod.updateSourceFrame()"
   ]
  },
  {
   "cell_type": "code",
   "execution_count": null,
   "metadata": {},
   "outputs": [],
   "source": [
    "variableDP = True\n",
    "grad = test_rod.gradEnergyBend(variableDesignParameters = variableDP)"
   ]
  },
  {
   "cell_type": "code",
   "execution_count": null,
   "metadata": {},
   "outputs": [],
   "source": [
    "test_rod.bendingEnergyType = elastic_rods.BendingEnergyType.Bergou2010"
   ]
  },
  {
   "cell_type": "markdown",
   "metadata": {},
   "source": [
    "#### Perturb the rod"
   ]
  },
  {
   "cell_type": "code",
   "execution_count": null,
   "metadata": {},
   "outputs": [],
   "source": [
    "test_rod.setExtendedDoFs(test_rod.getExtendedDoFs() + np.random.uniform(-5, 5, test_rod.numExtendedDoF()))\n",
    "test_rod.updateSourceFrame()"
   ]
  },
  {
   "cell_type": "markdown",
   "metadata": {},
   "source": [
    "### Test Elastic Rod Hessian Vector Product"
   ]
  },
  {
   "cell_type": "code",
   "execution_count": null,
   "metadata": {},
   "outputs": [],
   "source": [
    "# Get Hessian\n",
    "variable_DP = True\n",
    "hessian = test_rod.hessian(elastic_rods.EnergyType.Full, variable_DP)\n",
    "hessian.reflectUpperTriangle()\n",
    "hessian = hessian.compressedColumn()"
   ]
  },
  {
   "cell_type": "code",
   "execution_count": null,
   "metadata": {},
   "outputs": [],
   "source": [
    "# offsets\n",
    "theta_offset = test_rod.numDoF() - test_rod.numEdges()\n",
    "rl_offset = theta_offset + test_rod.numEdges()\n",
    "rk_offset = rl_offset + test_rod.numEdges()\n",
    "print(theta_offset, rk_offset, rl_offset)"
   ]
  },
  {
   "cell_type": "code",
   "execution_count": null,
   "metadata": {},
   "outputs": [],
   "source": [
    "var_types = ['FULL', 'POS', 'THETA', 'RL', 'RK']\n",
    "var_indices = {'FULL': range(0, test_rod.numExtendedDoF()),\n",
    "                'POS': range(0, theta_offset),\n",
    "              'THETA': range(theta_offset, rl_offset),\n",
    "                 'RL': range(rl_offset, rk_offset),\n",
    "                 'RK': range(rk_offset, test_rod.numExtendedDoF())}"
   ]
  },
  {
   "cell_type": "code",
   "execution_count": null,
   "metadata": {},
   "outputs": [],
   "source": [
    "n_dof = test_rod.numExtendedDoF() if variable_DP else test_rod.numDoF()\n",
    "print(\"Num of DOF: \", n_dof)\n",
    "perturb = np.random.uniform(-1, 1, n_dof)\n",
    "\n",
    "for i, vi in enumerate(var_types[1:]):\n",
    "    for j, vj in enumerate(var_types[1:]):\n",
    "        input_vector = np.zeros_like(perturb)\n",
    "        input_vector[var_indices[vj]] = perturb[var_indices[vj]]\n",
    "        code_output = test_rod.applyHessian(input_vector, variable_DP)\n",
    "        matrix_output = hessian * input_vector\n",
    "        code_output = code_output[var_indices[vi]]\n",
    "        matrix_output = matrix_output[var_indices[vi]]\n",
    "        error = la.norm(code_output - matrix_output) / la.norm(code_output)\n",
    "        print('Error for {} {} block: {}'.format(vi, vj, error))"
   ]
  },
  {
   "cell_type": "markdown",
   "metadata": {},
   "source": [
    "### Test Linkage Hessian Vector Product"
   ]
  },
  {
   "cell_type": "code",
   "execution_count": null,
   "metadata": {},
   "outputs": [],
   "source": [
    "# # Single Linkage Parameters\n",
    "# default_camera_parameters = ((3.466009282140468, -4.674139805388271, -2.556131049738206), (-0.21402574298422497, -0.06407538766530313, -0.9747681088523519),(0.1111, 0.1865, 0.5316))\n",
    "# RIBBON_CS = [0.001, 0.01]\n",
    "# ISO_CS = [0.01, 0.01]\n",
    "# MODEL_PATH = osp.join('/Users/yren/Develop/EPFL_LGG/add_params_elastic_rods/examples/' + 'single_linkage.obj')\n",
    "# SUBDIVISION_RESOLUTION = 5"
   ]
  },
  {
   "cell_type": "code",
   "execution_count": null,
   "metadata": {},
   "outputs": [],
   "source": [
    "linkage = elastic_rods.RodLinkage(MODEL_PATH, SUBDIVISION_RESOLUTION, False)\n",
    "driver=linkage.centralJoint()\n",
    "linkage.setMaterial(elastic_rods.RodMaterial('rectangle', 2000, 0.3, RIBBON_CS, stiffAxis=elastic_rods.StiffAxis.D1))"
   ]
  },
  {
   "cell_type": "markdown",
   "metadata": {},
   "source": [
    "#### Perturb the linkage"
   ]
  },
  {
   "cell_type": "code",
   "execution_count": null,
   "metadata": {},
   "outputs": [],
   "source": [
    "linkage.setExtendedDoFs(linkage.getExtendedDoFs() + np.random.uniform(-15, 15, linkage.numExtendedDoF()))\n",
    "\n",
    "linkage.updateSourceFrame()"
   ]
  },
  {
   "cell_type": "code",
   "execution_count": null,
   "metadata": {},
   "outputs": [],
   "source": [
    "# Get Hessian\n",
    "variable_DP = True\n",
    "hessian = linkage.hessian(elastic_rods.EnergyType.Full, variable_DP)\n",
    "hessian.reflectUpperTriangle()\n",
    "hessian = hessian.compressedColumn()"
   ]
  },
  {
   "cell_type": "code",
   "execution_count": null,
   "metadata": {},
   "outputs": [],
   "source": [
    "n_dof = linkage.numExtendedDoF() if variable_DP else linkage.numDoF()\n",
    "print(\"Num of DOF: \", n_dof)\n",
    "perturb = np.random.uniform(-1, 1, n_dof)\n",
    "input_vector = perturb\n",
    "# input_vector[var_indices[vj]] = perturb[var_indices[vj]]\n",
    "code_output = linkage.applyHessian(input_vector, variable_DP)\n",
    "matrix_output = hessian * input_vector\n",
    "# code_output = code_output[var_indices[vi]]\n",
    "# matrix_output = matrix_output[var_indices[vi]]\n",
    "error = la.norm(code_output - matrix_output) / la.norm(code_output)\n",
    "print(error)"
   ]
  },
  {
   "cell_type": "markdown",
   "metadata": {},
   "source": [
    "#### Per Segment Rest Len Test"
   ]
  },
  {
   "cell_type": "code",
   "execution_count": null,
   "metadata": {},
   "outputs": [],
   "source": [
    "# Get Hessian\n",
    "PSRL_hessian = linkage.hessianPerSegmentRestlen(elastic_rods.EnergyType.Full)\n",
    "PSRL_hessian.reflectUpperTriangle()\n",
    "PSRL_hessian = PSRL_hessian.compressedColumn()"
   ]
  },
  {
   "cell_type": "code",
   "execution_count": null,
   "metadata": {},
   "outputs": [],
   "source": [
    "# offsets\n",
    "jv_offset = linkage.dofOffsetForJoint(0)\n",
    "rk_offset = linkage.restKappaDofOffsetForSegment(0)\n",
    "rl_offset = linkage.restLenDofOffsetForSegment(0)\n",
    "\n",
    "print(rk_offset, rl_offset)"
   ]
  },
  {
   "cell_type": "code",
   "execution_count": null,
   "metadata": {},
   "outputs": [],
   "source": [
    "var_types = ['FULL', 'RV', 'JV', 'RL', 'RK']\n",
    "var_indices = {'FULL': range(0, linkage.numExtendedDoFPSRL()),\n",
    "                'RV': range(0, jv_offset),\n",
    "                'JV' : range(jv_offset, rk_offset),\n",
    "                'RK': range(rk_offset, rl_offset),\n",
    "                'RL': range(rl_offset, linkage.numExtendedDoFPSRL())}"
   ]
  },
  {
   "cell_type": "code",
   "execution_count": null,
   "metadata": {},
   "outputs": [],
   "source": [
    "n_dof = linkage.numExtendedDoFPSRL()\n",
    "print(\"Num of DOF: \", n_dof)\n",
    "perturb = np.random.uniform(-1, 1, n_dof)\n",
    "\n",
    "for i, vi in enumerate(var_types[1:]):\n",
    "    for j, vj in enumerate(var_types[1:]):\n",
    "        input_vector = np.zeros_like(perturb)\n",
    "        input_vector[var_indices[vj]] = perturb[var_indices[vj]]\n",
    "        code_output = linkage.applyHessianPerSegmentRestlen(input_vector)\n",
    "        matrix_output = PSRL_hessian * input_vector\n",
    "        code_output = code_output[var_indices[vi]]\n",
    "        matrix_output = matrix_output[var_indices[vi]]\n",
    "        error = la.norm(code_output - matrix_output) / la.norm(code_output)\n",
    "        print('Error for {} {} block: {}'.format(vi, vj, error))"
   ]
  },
  {
   "cell_type": "code",
   "execution_count": null,
   "metadata": {},
   "outputs": [],
   "source": [
    "n_dof = linkage.numExtendedDoFPSRL()\n",
    "print(\"Num of DOF: \", n_dof)\n",
    "perturb = np.random.uniform(-1, 1, n_dof)\n",
    "input_vector = perturb\n",
    "# input_vector[var_indices[vj]] = perturb[var_indices[vj]]\n",
    "code_output = linkage.applyHessianPerSegmentRestlen(input_vector)\n",
    "print(len(code_output))\n",
    "matrix_output = PSRL_hessian * input_vector\n",
    "print(len(matrix_output))\n",
    "# code_output = code_output[var_indices[vi]]\n",
    "# matrix_output = matrix_output[var_indices[vi]]\n",
    "error = la.norm(code_output - matrix_output) / la.norm(code_output)\n",
    "print(error)"
   ]
  }
 ],
 "metadata": {
  "kernelspec": {
   "display_name": "Python 3",
   "language": "python",
   "name": "python3"
  },
  "language_info": {
   "codemirror_mode": {
    "name": "ipython",
    "version": 3
   },
   "file_extension": ".py",
   "mimetype": "text/x-python",
   "name": "python",
   "nbconvert_exporter": "python",
   "pygments_lexer": "ipython3",
   "version": "3.9.4"
  }
 },
 "nbformat": 4,
 "nbformat_minor": 4
}

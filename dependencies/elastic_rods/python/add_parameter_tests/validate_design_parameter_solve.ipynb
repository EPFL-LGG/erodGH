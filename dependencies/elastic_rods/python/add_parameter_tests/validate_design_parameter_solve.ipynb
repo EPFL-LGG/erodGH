{
 "cells": [
  {
   "cell_type": "code",
   "execution_count": null,
   "metadata": {},
   "outputs": [],
   "source": [
    "elastic_rods_dir = '../'\n",
    "weaving_dir = '../../../weaving/'\n",
    "import os.path as osp\n",
    "import sys; sys.path.append(elastic_rods_dir); sys.path.append(weaving_dir)\n",
    "import numpy as np, elastic_rods, linkage_vis\n",
    "import numpy.linalg as la\n",
    "from bending_validation import suppress_stdout as so\n",
    "import matplotlib.pyplot as plt"
   ]
  },
  {
   "cell_type": "code",
   "execution_count": null,
   "metadata": {},
   "outputs": [],
   "source": [
    "# Reloadable libraries\n",
    "import fd_design_parameter_solve, importlib\n",
    "importlib.reload(fd_design_parameter_solve)\n",
    "from fd_design_parameter_solve import fd_hessian_test, fd_gradient_test, gradient_convergence_plot, hessian_convergence_plot\n",
    "\n",
    "# weaving\n",
    "import analysis_helper, ribbon_linkage_helper, mesh_vis, linkage_utils, compute_curve_from_curvature, importlib\n",
    "importlib.reload(analysis_helper)\n",
    "importlib.reload(ribbon_linkage_helper)\n",
    "importlib.reload(mesh_vis)\n",
    "importlib.reload(linkage_utils)\n",
    "importlib.reload(compute_curve_from_curvature)\n",
    "from analysis_helper import (compare_turning_angle,\n",
    "                            is_on_sphere, \n",
    "                            get_distance_to_center_scalar_field, \n",
    "                            plot_curvatures, \n",
    "                            get_curvature_scalar_field,\n",
    "                            construct_elastic_rod_loop_from_rod_segments, \n",
    "                            concatenate_rod_properties_from_rod_segments, \n",
    "                            compute_min_distance_rigid_transformation)\n",
    "from ribbon_linkage_helper import (initialize_linkage, \n",
    "                                   update_rest_curvature, \n",
    "                                   set_ribbon_linkage,\n",
    "                                   export_linkage_geometry_to_obj)\n",
    "from compute_curve_from_curvature import (match_geo_curvature_and_edge_len, get_all_curve_pattern)\n",
    "from linkage_utils import order_segments_by_ribbons, get_turning_angle_and_length_from_ordered_rods"
   ]
  },
  {
   "cell_type": "code",
   "execution_count": null,
   "metadata": {},
   "outputs": [],
   "source": [
    "# Sphere Parameters\n",
    "default_camera_parameters = ((3.466009282140468, -4.674139805388271, -2.556131049738206), (-0.21402574298422497, -0.06407538766530313, -0.9747681088523519),(0.1111, 0.1865, 0.5316))\n",
    "RIBBON_CS = [1, 10]\n",
    "ISO_CS = [4, 4]\n",
    "MODEL_PATH = osp.join(weaving_dir + 'models/equal_edge_atI.obj')\n",
    "SURFACE_PATH = osp.join(weaving_dir + 'surface_models/centered_sphere_100mm.obj')\n",
    "SUBDIVISION_RESOLUTION = 5"
   ]
  },
  {
   "cell_type": "code",
   "execution_count": null,
   "metadata": {},
   "outputs": [],
   "source": [
    "# Regular Torus 1\n",
    "default_camera_parameters = ((3.466009282140468, -4.674139805388271, -2.556131049738206), (-0.21402574298422497, -0.06407538766530313, -0.9747681088523519),(0.1111, 0.1865, 0.5316))\n",
    "RIBBON_CS = [1/200, 1/20]\n",
    "MODEL_NAME = \"regular_torus_1\"\n",
    "MODEL_PATH = osp.join(weaving_dir + 'normalized_objs/models/{}.obj'.format(MODEL_NAME))\n",
    "SUBDIVISION_RESOLUTION = 20\n",
    "SMOOTHING_WEIGHT = 10\n",
    "REGULARIZATION_WEIGHT = 0\n",
    "INPUT_SURFACE_PATH = osp.join(weaving_dir + 'normalized_objs/surface_models/{}.obj'.format(MODEL_NAME))\n",
    "RIBBON_NAME = \"{}_strip\".format(MODEL_NAME)"
   ]
  },
  {
   "cell_type": "code",
   "execution_count": null,
   "metadata": {},
   "outputs": [],
   "source": [
    "# # Single Linkage Parameters\n",
    "# default_camera_parameters = ((3.466009282140468, -4.674139805388271, -2.556131049738206), (-0.21402574298422497, -0.06407538766530313, -0.9747681088523519),(0.1111, 0.1865, 0.5316))\n",
    "# RIBBON_CS = [0.001, 0.01]\n",
    "# ISO_CS = [0.01, 0.01]\n",
    "# MODEL_PATH = osp.join('../../examples/' + 'single_linkage.obj')\n",
    "# SUBDIVISION_RESOLUTION = 5"
   ]
  },
  {
   "cell_type": "code",
   "execution_count": null,
   "metadata": {},
   "outputs": [],
   "source": [
    "linkage = elastic_rods.SurfaceAttractedLinkage(SURFACE_PATH, True, MODEL_PATH, SUBDIVISION_RESOLUTION, False)\n",
    "linkage.setMaterial(elastic_rods.RodMaterial('rectangle', 2000, 0.3, RIBBON_CS, stiffAxis=elastic_rods.StiffAxis.D1))\n",
    "linkage.updateSourceFrame()\n",
    "linkage.set_design_parameter_config(True, True)\n",
    "linkage.set_attraction_tgt_joint_weight(0)\n",
    "linkage.set_holdClosestPointsFixed(False)"
   ]
  },
  {
   "cell_type": "markdown",
   "metadata": {},
   "source": [
    "### test example 1"
   ]
  },
  {
   "cell_type": "code",
   "execution_count": null,
   "metadata": {},
   "outputs": [],
   "source": [
    "# rk_vars = np.ones(linkage.numRestKappaVars()) \n",
    "# linkage.setRestKappaVars(rk_vars)\n",
    "# assert(linkage.get_rest_kappa_smoothing() == 0)"
   ]
  },
  {
   "cell_type": "markdown",
   "metadata": {},
   "source": [
    "### test example 2"
   ]
  },
  {
   "cell_type": "code",
   "execution_count": null,
   "metadata": {},
   "outputs": [],
   "source": [
    "# for i in range(linkage.numSegments()):\n",
    "#     small_rk_vars = np.ones(linkage.segment(i).rod.numRestKappaVars())\n",
    "#     small_rk_vars[0] = 2\n",
    "#     small_rk_vars[-1] = 2\n",
    "#     linkage.segment(i).rod.setRestKappaVars(small_rk_vars)\n",
    "# assert(linkage.get_rest_kappa_smoothing() == 180)"
   ]
  },
  {
   "cell_type": "markdown",
   "metadata": {},
   "source": [
    "### test example 3"
   ]
  },
  {
   "cell_type": "code",
   "execution_count": null,
   "metadata": {},
   "outputs": [],
   "source": [
    "# rk_vars = np.pi * np.random.normal(-1, 1, linkage.numRestKappaVars())\n",
    "# assert(linkage.get_rest_kappa_smoothing() == 0)"
   ]
  },
  {
   "cell_type": "markdown",
   "metadata": {},
   "source": [
    "### test example 4 (take longer)"
   ]
  },
  {
   "cell_type": "code",
   "execution_count": null,
   "metadata": {},
   "outputs": [],
   "source": [
    "linkage.set_design_parameter_config(use_restLen = True, use_restKappa = True)\n",
    "import py_newton_optimizer\n",
    "design_opts = py_newton_optimizer.NewtonOptimizerOptions()\n",
    "design_opts.niter = 5\n",
    "design_opts.verbose = 10\n",
    "with so(): elastic_rods.designParameter_solve(linkage, design_opts, 0, 0.1)\n",
    "linkage.set_design_parameter_config(use_restLen = True, use_restKappa = True)"
   ]
  },
  {
   "cell_type": "markdown",
   "metadata": {},
   "source": [
    "### Compute equilibrium and visualize (not recommended for test example 1, 2 or 3)"
   ]
  },
  {
   "cell_type": "code",
   "execution_count": null,
   "metadata": {},
   "outputs": [],
   "source": [
    "with so():\n",
    "    opts = py_newton_optimizer.NewtonOptimizerOptions()\n",
    "    opts.niter = 10\n",
    "    opts.verbose = 10\n",
    "    elastic_rods.compute_equilibrium(linkage, options = opts)"
   ]
  },
  {
   "cell_type": "code",
   "execution_count": null,
   "metadata": {},
   "outputs": [],
   "source": [
    "view = linkage_vis.LinkageViewer(linkage, width=1024, height=640)\n",
    "view.setCameraParams(default_camera_parameters)\n",
    "view.show()"
   ]
  },
  {
   "cell_type": "markdown",
   "metadata": {},
   "source": [
    "### Define design parameter solve problem for finite difference validation"
   ]
  },
  {
   "cell_type": "code",
   "execution_count": null,
   "metadata": {},
   "outputs": [],
   "source": [
    "linkage.attraction_weight = 1"
   ]
  },
  {
   "cell_type": "code",
   "execution_count": null,
   "metadata": {},
   "outputs": [],
   "source": [
    "dp_problem = elastic_rods.DesignParameterProblem(linkage)"
   ]
  },
  {
   "cell_type": "code",
   "execution_count": null,
   "metadata": {},
   "outputs": [],
   "source": [
    "dp_problem.set_regularization_weight(0)\n",
    "dp_problem.set_smoothing_weight(0)\n",
    "dp_problem.set_gamma(1)"
   ]
  },
  {
   "cell_type": "code",
   "execution_count": null,
   "metadata": {},
   "outputs": [],
   "source": [
    "long_direction = np.random.normal(-1, 1, dp_problem.numVars())\n",
    "gradient_convergence_plot(dp_problem, minStepSize=1e-9, maxStepSize=1e-1, direction = long_direction)"
   ]
  },
  {
   "cell_type": "code",
   "execution_count": null,
   "metadata": {},
   "outputs": [],
   "source": [
    "hessian_convergence_plot(dp_problem, minStepSize=1e-11, maxStepSize=1e-1, direction = long_direction)"
   ]
  }
 ],
 "metadata": {
  "kernelspec": {
   "display_name": "Python 3",
   "language": "python",
   "name": "python3"
  },
  "language_info": {
   "codemirror_mode": {
    "name": "ipython",
    "version": 3
   },
   "file_extension": ".py",
   "mimetype": "text/x-python",
   "name": "python",
   "nbconvert_exporter": "python",
   "pygments_lexer": "ipython3",
   "version": "3.9.4"
  }
 },
 "nbformat": 4,
 "nbformat_minor": 4
}

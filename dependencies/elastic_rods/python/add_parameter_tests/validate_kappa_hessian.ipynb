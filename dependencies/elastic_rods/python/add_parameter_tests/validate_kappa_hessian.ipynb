{
 "cells": [
  {
   "cell_type": "code",
   "execution_count": null,
   "metadata": {},
   "outputs": [],
   "source": [
    "elastic_rods_dir = '../'\n",
    "weaving_dir = '../../../Weaving/'\n",
    "import sys; sys.path.append(elastic_rods_dir); sys.path.append(weaving_dir)\n",
    "import numpy as np, elastic_rods, linkage_vis\n",
    "import numpy.linalg as la\n",
    "from bending_validation import suppress_stdout as so\n",
    "import matplotlib.pyplot as plt"
   ]
  },
  {
   "cell_type": "code",
   "execution_count": null,
   "metadata": {},
   "outputs": [],
   "source": [
    "# Reloadable libraries\n",
    "import finite_diff, importlib\n",
    "importlib.reload(finite_diff)\n",
    "from finite_diff import fd_hessian_test, fd_gradient_test, block_error, hessian_convergence_block_plot"
   ]
  },
  {
   "cell_type": "code",
   "execution_count": null,
   "metadata": {},
   "outputs": [],
   "source": [
    "centerline_pos = np.array([[0, 0, 0], [1, 0, 0], [2.1, 0, 0], [3, 0, 0]])\n",
    "deformed_centerline_pos = np.array([[0, 0, 0],[1, 0, 0],[1 + 0.6 * np.sqrt(0.5),  0.6 * np.sqrt(0.5), 0],[2 + 0.6 * np.sqrt(0.5),  0.6 * np.sqrt(0.5), 0]])\n",
    "test_rod = elastic_rods.ElasticRod(centerline_pos)\n",
    "test_rod.setDeformedConfiguration(deformed_centerline_pos, np.array([0, np.pi / 6.0, np.pi / 6.0]))\n",
    "test_rod.setMaterial(elastic_rods.RodMaterial('ellipse', 200, 0.3, (0.1, 0.05), stiffAxis = elastic_rods.StiffAxis.D1))"
   ]
  },
  {
   "cell_type": "code",
   "execution_count": null,
   "metadata": {},
   "outputs": [],
   "source": [
    "# The Hessian formulas are only accurate with an updated source frame.\n",
    "test_rod.updateSourceFrame()"
   ]
  },
  {
   "cell_type": "code",
   "execution_count": null,
   "metadata": {},
   "outputs": [],
   "source": [
    "variableDP = True\n",
    "grad = test_rod.gradEnergyBend(variableDesignParameters = variableDP)"
   ]
  },
  {
   "cell_type": "code",
   "execution_count": null,
   "metadata": {},
   "outputs": [],
   "source": [
    "test_rod.bendingEnergyType = elastic_rods.BendingEnergyType.Bergou2008"
   ]
  },
  {
   "cell_type": "code",
   "execution_count": null,
   "metadata": {},
   "outputs": [],
   "source": [
    "theta_offset = test_rod.numVertices() * 3\n",
    "rl_offset = theta_offset + test_rod.numEdges()\n",
    "rk_offset = rl_offset + test_rod.numEdges()"
   ]
  },
  {
   "cell_type": "code",
   "execution_count": null,
   "metadata": {},
   "outputs": [],
   "source": [
    "var_types = ['FULL', 'POS', 'THETA', 'RL', 'RK']\n",
    "var_indices = {'FULL': range(0, test_rod.numExtendedDoF()),\n",
    "                'POS': range(0, theta_offset),\n",
    "              'THETA': range(theta_offset, rl_offset),\n",
    "                 'RL': range(rl_offset, rk_offset),\n",
    "                 'RK': range(rk_offset, test_rod.numExtendedDoF())}"
   ]
  },
  {
   "cell_type": "code",
   "execution_count": null,
   "metadata": {},
   "outputs": [],
   "source": [
    "block_error(test_rod, var_indices, 'POS', 'RK', grad, eps=1e-6, variableDesignParameters=variableDP)"
   ]
  },
  {
   "cell_type": "code",
   "execution_count": null,
   "metadata": {},
   "outputs": [],
   "source": [
    "block_error(test_rod, var_indices, 'THETA', 'RK', grad, eps=1e-7, variableDesignParameters=variableDP)"
   ]
  },
  {
   "cell_type": "code",
   "execution_count": null,
   "metadata": {},
   "outputs": [],
   "source": [
    "block_error(test_rod, var_indices, 'RL', 'RK', grad, eps=1e-6, variableDesignParameters=variableDP)"
   ]
  },
  {
   "cell_type": "code",
   "execution_count": null,
   "metadata": {},
   "outputs": [],
   "source": [
    "block_error(test_rod, var_indices, 'RK', 'RL', grad, eps=1e-6, variableDesignParameters=variableDP)"
   ]
  },
  {
   "cell_type": "code",
   "execution_count": null,
   "metadata": {},
   "outputs": [],
   "source": [
    "direction = np.zeros(test_rod.numExtendedDoF())\n",
    "direction[var_indices['RK']] = np.random.normal(0, 1, len(var_indices['RK']))"
   ]
  },
  {
   "cell_type": "code",
   "execution_count": null,
   "metadata": {},
   "outputs": [],
   "source": [
    "def decompose_gradient(g):\n",
    "    return {t: g[var_indices[t]] for t in var_types}\n",
    "\n",
    "def log_hessian_error(fd_delta_gradient, analytic_delta_gradient):\n",
    "    fd_components = decompose_gradient(fd_delta_gradient)\n",
    "    an_components = decompose_gradient(analytic_delta_gradient)\n",
    "    for k in fd_components:\n",
    "        print(f'{k}\\t{la.norm(fd_components[k] - an_components[k]) / la.norm(an_components[k])}')\n",
    "\n",
    "stepSize = 1e-5\n",
    "fd_delta_grad, an_delta_grad = fd_hessian_test(test_rod, stepSize, etype = elastic_rods.EnergyType.Bend, direction = direction, variableDesignParameters = variableDP)\n",
    "log_hessian_error(fd_delta_grad, an_delta_grad)"
   ]
  },
  {
   "cell_type": "code",
   "execution_count": null,
   "metadata": {},
   "outputs": [],
   "source": [
    "hessian_convergence_block_plot(test_rod, var_types, var_indices, variableDesignParameters=variableDP)"
   ]
  }
 ],
 "metadata": {
  "kernelspec": {
   "display_name": "Python 3",
   "language": "python",
   "name": "python3"
  },
  "language_info": {
   "codemirror_mode": {
    "name": "ipython",
    "version": 3
   },
   "file_extension": ".py",
   "mimetype": "text/x-python",
   "name": "python",
   "nbconvert_exporter": "python",
   "pygments_lexer": "ipython3",
   "version": "3.9.4"
  }
 },
 "nbformat": 4,
 "nbformat_minor": 4
}

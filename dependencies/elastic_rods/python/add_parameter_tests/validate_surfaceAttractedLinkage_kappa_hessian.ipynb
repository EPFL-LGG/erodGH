{
 "cells": [
  {
   "cell_type": "code",
   "execution_count": null,
   "metadata": {},
   "outputs": [],
   "source": [
    "elastic_rods_dir = '../'\n",
    "weaving_dir = '../../../Weaving/'\n",
    "import os.path as osp\n",
    "import sys; sys.path.append(elastic_rods_dir); sys.path.append(weaving_dir)\n",
    "import numpy as np, elastic_rods, linkage_vis\n",
    "import numpy.linalg as la\n",
    "from bending_validation import suppress_stdout as so\n",
    "import matplotlib.pyplot as plt\n",
    "from elastic_rods import EnergyType, InterleavingType"
   ]
  },
  {
   "cell_type": "code",
   "execution_count": null,
   "metadata": {},
   "outputs": [],
   "source": [
    "# Reloadable libraries\n",
    "import finite_diff, importlib\n",
    "importlib.reload(finite_diff)\n",
    "from finite_diff import fd_hessian_test, fd_gradient_test, gradient_convergence_plot, hessian_convergence_plot, hessian_convergence_block_plot\n",
    "\n",
    "# weaving\n",
    "import analysis_helper, ribbon_linkage_helper, mesh_vis, linkage_utils, compute_curve_from_curvature, importlib\n",
    "importlib.reload(analysis_helper)\n",
    "importlib.reload(ribbon_linkage_helper)\n",
    "importlib.reload(mesh_vis)\n",
    "importlib.reload(linkage_utils)\n",
    "importlib.reload(compute_curve_from_curvature)\n",
    "from analysis_helper import (compare_turning_angle,\n",
    "                            is_on_sphere, \n",
    "                            get_distance_to_center_scalar_field, \n",
    "                            plot_curvatures, \n",
    "                            get_curvature_scalar_field,\n",
    "                            construct_elastic_rod_loop_from_rod_segments, \n",
    "                            concatenate_rod_properties_from_rod_segments, \n",
    "                            compute_min_distance_rigid_transformation)\n",
    "from ribbon_linkage_helper import (initialize_linkage, \n",
    "                                   update_rest_curvature, \n",
    "                                   set_ribbon_linkage,\n",
    "                                   export_linkage_geometry_to_obj)\n",
    "from compute_curve_from_curvature import (match_geo_curvature_and_edge_len, get_all_curve_pattern)\n",
    "from linkage_utils import order_segments_by_ribbons, get_turning_angle_and_length_from_ordered_rods"
   ]
  },
  {
   "cell_type": "code",
   "execution_count": null,
   "metadata": {},
   "outputs": [],
   "source": [
    "# Sphere Parameters\n",
    "default_camera_parameters = ((3.466009282140468, -4.674139805388271, -2.556131049738206), (-0.21402574298422497, -0.06407538766530313, -0.9747681088523519),(0.1111, 0.1865, 0.5316))\n",
    "RIBBON_CS = [1, 10]\n",
    "ISO_CS = [4, 4]\n",
    "MODEL_PATH = osp.join(weaving_dir + 'models/equal_edge_atI.obj')\n",
    "SURFACE_PATH = osp.join(weaving_dir + 'surface_models/centered_sphere_100mm.obj')\n",
    "SUBDIVISION_RESOLUTION = 5"
   ]
  },
  {
   "cell_type": "code",
   "execution_count": null,
   "metadata": {},
   "outputs": [],
   "source": [
    "# # Single Linkage Parameters\n",
    "# default_camera_parameters = ((3.466009282140468, -4.674139805388271, -2.556131049738206), (-0.21402574298422497, -0.06407538766530313, -0.9747681088523519),(0.1111, 0.1865, 0.5316))\n",
    "# RIBBON_CS = [0.001, 0.01]\n",
    "# ISO_CS = [0.01, 0.01]\n",
    "# MODEL_PATH = osp.join('../../examples/' + 'single_linkage.obj')\n",
    "# SUBDIVISION_RESOLUTION = 5"
   ]
  },
  {
   "cell_type": "code",
   "execution_count": null,
   "metadata": {},
   "outputs": [],
   "source": [
    "# # Sphere to hemoglobin sequence\n",
    "# default_camera_parameters = ((3.466009282140468, -4.674139805388271, -2.556131049738206), (-0.21402574298422497, -0.06407538766530313, -0.9747681088523519),(0.1111, 0.1865, 0.5316))\n",
    "# RIBBON_CS = [0.01, 0.1]\n",
    "# ISO_CS = [0.04, 0.04]\n",
    "# MODEL_PATH = osp.join(weaving_dir + 'models/sphere_to_hemoglobin/5.obj')\n",
    "# SUBDIVISION_RESOLUTION = 20\n",
    "# REGULARIZATION_WEIGHT = 0.05\n",
    "# MODEL_NAME = './results/sphere_to_hemoglobin_5'"
   ]
  },
  {
   "cell_type": "code",
   "execution_count": null,
   "metadata": {},
   "outputs": [],
   "source": [
    "import py_newton_optimizer\n",
    "linkage = elastic_rods.SurfaceAttractedLinkage(SURFACE_PATH, True, MODEL_PATH, SUBDIVISION_RESOLUTION, False, InterleavingType.weaving)\n",
    "linkage.setMaterial(elastic_rods.RodMaterial('rectangle', 2000, 0.3, RIBBON_CS, stiffAxis=elastic_rods.StiffAxis.D1))\n",
    "linkage.updateSourceFrame()\n",
    "linkage.set_design_parameter_config(True, True)\n",
    "linkage.set_attraction_tgt_joint_weight(0)\n",
    "linkage.set_holdClosestPointsFixed(False)\n",
    "with so():\n",
    "    opts = py_newton_optimizer.NewtonOptimizerOptions()\n",
    "    opts.niter = 100\n",
    "    opts.verbose = 10\n",
    "    elastic_rods.compute_equilibrium(linkage, options = opts)"
   ]
  },
  {
   "cell_type": "code",
   "execution_count": null,
   "metadata": {},
   "outputs": [],
   "source": [
    "# linkage.energy(elastic_rods.SurfaceAttractionEnergyType.Attraction)"
   ]
  },
  {
   "cell_type": "code",
   "execution_count": null,
   "metadata": {},
   "outputs": [],
   "source": [
    "view = linkage_vis.LinkageViewer(linkage, width=1024, height=640)\n",
    "view.setCameraParams(default_camera_parameters)"
   ]
  },
  {
   "cell_type": "code",
   "execution_count": null,
   "metadata": {},
   "outputs": [],
   "source": [
    "# view.show()"
   ]
  },
  {
   "cell_type": "code",
   "execution_count": null,
   "metadata": {},
   "outputs": [],
   "source": [
    "# with open('./closest_point.obj', 'w') as f:\n",
    "#     pt_list = linkage.get_linkage_closest_point()\n",
    "#     for i in range(int(len(pt_list)/3)):\n",
    "#         f.write('v {} {} {}\\n'.format(pt_list[3*i], pt_list[3*i + 1], pt_list[3*i + 2]))"
   ]
  },
  {
   "cell_type": "code",
   "execution_count": null,
   "metadata": {},
   "outputs": [],
   "source": [
    "# with open('./centerline.obj', 'w') as f:\n",
    "#     pt_list = linkage.centerLinePositions()\n",
    "#     for i in range(int(len(pt_list)/3)):\n",
    "#         f.write('v {} {} {}\\n'.format(pt_list[3*i], pt_list[3*i + 1], pt_list[3*i + 2]))"
   ]
  },
  {
   "cell_type": "code",
   "execution_count": null,
   "metadata": {},
   "outputs": [],
   "source": [
    "direction = np.zeros(linkage.numDoF())\n",
    "direction[1] = 1\n",
    "direction = np.random.normal(-1, 1, linkage.numDoF())"
   ]
  },
  {
   "cell_type": "code",
   "execution_count": null,
   "metadata": {},
   "outputs": [],
   "source": [
    "np.linalg.norm(linkage.gradient())"
   ]
  },
  {
   "cell_type": "code",
   "execution_count": null,
   "metadata": {},
   "outputs": [],
   "source": [
    "variableDP = False\n",
    "energyType = elastic_rods.SurfaceAttractionEnergyType.Attraction"
   ]
  },
  {
   "cell_type": "code",
   "execution_count": null,
   "metadata": {},
   "outputs": [],
   "source": [
    "# fd_gradient_test(linkage, 1e-4, etype=elastic_rods.SurfaceAttractionEnergyType.Attraction, direction=direction, variableDesignParameters=variableDP)"
   ]
  },
  {
   "cell_type": "code",
   "execution_count": null,
   "metadata": {},
   "outputs": [],
   "source": [
    "# fd_gradient_test(linkage, 1e-2, etype=elastic_rods.SurfaceAttractionEnergyType.Attraction, direction=direction, variableDesignParameters=variableDP)"
   ]
  },
  {
   "cell_type": "code",
   "execution_count": null,
   "metadata": {},
   "outputs": [],
   "source": [
    "linkage.set_holdClosestPointsFixed(False)"
   ]
  },
  {
   "cell_type": "code",
   "execution_count": null,
   "metadata": {},
   "outputs": [],
   "source": [
    "linkage.set_use_centerline(True)"
   ]
  },
  {
   "cell_type": "code",
   "execution_count": null,
   "metadata": {},
   "outputs": [],
   "source": [
    "linkage.set_attraction_tgt_joint_weight(0)"
   ]
  },
  {
   "cell_type": "code",
   "execution_count": null,
   "metadata": {},
   "outputs": [],
   "source": [
    "open('closest_pt_stats.txt', 'w').close()\n",
    "gradient_convergence_plot(linkage, minStepSize=1e-5, maxStepSize=1e-1, variableDesignParameters = variableDP, etype = elastic_rods.SurfaceAttractionEnergyType.Attraction, direction = direction)"
   ]
  },
  {
   "cell_type": "code",
   "execution_count": null,
   "metadata": {},
   "outputs": [],
   "source": [
    "# # plot closest point stats\n",
    "# with open(osp.join(\"closest_pt_stats.txt\")) as f:\n",
    "#     minStepSize=1e-5\n",
    "#     maxStepSize=1e-1\n",
    "#     stats = np.array([[int(x) for x in line.strip().split(' ')] for line in f.readlines()])[::2][::2]\n",
    "#     epsilons = np.logspace(np.log10(minStepSize), np.log10(maxStepSize), 100)\n",
    "#     labels = ['Faces', 'Edges', 'Vertices']\n",
    "#     fig = plt.figure()\n",
    "#     for i in range(3):\n",
    "#         ax = fig.add_subplot(3, 1, i+1)\n",
    "#         plt.plot(epsilons, stats[:, i], label=labels[i])\n",
    "#         ax.set_xscale('log')\n",
    "#         plt.legend()\n",
    "#         plt.tight_layout()\n",
    "#     plt.savefig('closest_pt_projection.png', dpi = 300)\n",
    "#     plt.show()"
   ]
  },
  {
   "cell_type": "code",
   "execution_count": null,
   "metadata": {},
   "outputs": [],
   "source": [
    "save_dof = linkage.getDoFs()"
   ]
  },
  {
   "cell_type": "code",
   "execution_count": null,
   "metadata": {},
   "outputs": [],
   "source": [
    "linkage.setDoFs(linkage.getDoFs() + np.random.normal(-1e2, 1e2, linkage.numDoF()))"
   ]
  },
  {
   "cell_type": "code",
   "execution_count": null,
   "metadata": {},
   "outputs": [],
   "source": [
    "linkage.setDoFs(save_dof)"
   ]
  },
  {
   "cell_type": "code",
   "execution_count": null,
   "metadata": {},
   "outputs": [],
   "source": [
    "open('closest_pt_stats.txt', 'w').close()\n",
    "hessian_convergence_plot(linkage, minStepSize=1e-5, maxStepSize=1e-1, variableDesignParameters = variableDP, etype = elastic_rods.SurfaceAttractionEnergyType.Attraction, direction = direction)"
   ]
  },
  {
   "cell_type": "code",
   "execution_count": null,
   "metadata": {},
   "outputs": [],
   "source": [
    "grad = linkage.gradient(variableDesignParameters = variableDP)"
   ]
  },
  {
   "cell_type": "code",
   "execution_count": null,
   "metadata": {},
   "outputs": [],
   "source": [
    "jv_offset = linkage.dofOffsetForJoint(0)\n",
    "rk_offset = linkage.numDoF()\n",
    "frl_offset = rk_offset + linkage.numRestKappaVars()\n",
    "jrl_offset = frl_offset + linkage.numFreeRestLengths()"
   ]
  },
  {
   "cell_type": "code",
   "execution_count": null,
   "metadata": {},
   "outputs": [],
   "source": [
    "linkage.numJoints()"
   ]
  },
  {
   "cell_type": "code",
   "execution_count": null,
   "metadata": {},
   "outputs": [],
   "source": [
    "var_types = ['FULL', 'RV', 'JV', 'RK', 'FRL', 'JRL']\n",
    "var_indices = {'FULL': range(0, linkage.numExtendedDoF()),\n",
    "                 'RV': range(0, jv_offset),\n",
    "                'JV' : range(jv_offset, rk_offset),\n",
    "                 'RK': range(rk_offset, frl_offset),\n",
    "                'FRL': range(frl_offset, jrl_offset),\n",
    "                'JRL': range(jrl_offset, linkage.numExtendedDoF())\n",
    "              }"
   ]
  },
  {
   "cell_type": "code",
   "execution_count": null,
   "metadata": {},
   "outputs": [],
   "source": [
    "# block_error('VAR', 'RK', eps=1e-6)\n",
    "print(var_indices)"
   ]
  },
  {
   "cell_type": "code",
   "execution_count": null,
   "metadata": {},
   "outputs": [],
   "source": [
    "direction = np.zeros(linkage.numExtendedDoF())\n",
    "print(linkage.numExtendedDoF())\n",
    "direction[var_indices['RK']] = np.random.normal(0, 1, len(var_indices['RK']))"
   ]
  },
  {
   "cell_type": "code",
   "execution_count": null,
   "metadata": {},
   "outputs": [],
   "source": [
    "# def decompose_gradient(g):\n",
    "#     return {t: g[var_indices[t]] for t in var_types}\n",
    "\n",
    "# def log_hessian_error(fd_delta_gradient, analytic_delta_gradient):\n",
    "#     fd_components = decompose_gradient(fd_delta_gradient)\n",
    "#     an_components = decompose_gradient(analytic_delta_gradient)\n",
    "#     for k in fd_components:\n",
    "#         print(f'{k}\\t{la.norm(fd_components[k] - an_components[k]) / la.norm(an_components[k])}')\n",
    "\n",
    "# stepSize = 1e-5\n",
    "# fd_delta_grad, an_delta_grad = fd_hessian_test(linkage, stepSize, etype = elastic_rods.EnergyType.Full, direction = direction, variableDesignParameters = variableDP)\n",
    "# log_hessian_error(fd_delta_grad, an_delta_grad)"
   ]
  },
  {
   "cell_type": "code",
   "execution_count": null,
   "metadata": {},
   "outputs": [],
   "source": [
    "# hessian_convergence_block_plot(linkage, var_types, var_indices, variableDesignParameters=variableDP)"
   ]
  },
  {
   "cell_type": "code",
   "execution_count": null,
   "metadata": {},
   "outputs": [],
   "source": [
    "# hs = single_linkage.hessianSparsityPattern(variableDesignParameters = True)"
   ]
  },
  {
   "cell_type": "code",
   "execution_count": null,
   "metadata": {},
   "outputs": [],
   "source": [
    "# tm = hs.getTripletMatrix()"
   ]
  },
  {
   "cell_type": "code",
   "execution_count": null,
   "metadata": {},
   "outputs": [],
   "source": [
    "# tm.dump('test.txt')"
   ]
  },
  {
   "cell_type": "code",
   "execution_count": null,
   "metadata": {},
   "outputs": [],
   "source": [
    "# sparsity_pattern = np.zeros((115, 115, 3))\n",
    "\n",
    "# with open ('test.txt', 'r') as f:\n",
    "#     content = f.readlines()\n",
    "#     for line in content:\n",
    "#         line = line.strip()\n",
    "#         line = line.split('\\t')\n",
    "#         i = int(line[0])\n",
    "#         j = int(line[1])\n",
    "#         if j < 73:\n",
    "#             sparsity_pattern[int(line[0])][int(line[1])] = np.array([255, 255, 255])\n",
    "#         else:\n",
    "#             sparsity_pattern[int(line[0])][int(line[1])] = np.array([255, 0, 0])\n",
    "            \n",
    "# sparsity_pattern[0][79] = np.array([0, 255, 0])\n",
    "                "
   ]
  }
 ],
 "metadata": {
  "kernelspec": {
   "display_name": "Python 3",
   "language": "python",
   "name": "python3"
  },
  "language_info": {
   "codemirror_mode": {
    "name": "ipython",
    "version": 3
   },
   "file_extension": ".py",
   "mimetype": "text/x-python",
   "name": "python",
   "nbconvert_exporter": "python",
   "pygments_lexer": "ipython3",
   "version": "3.7.11"
  }
 },
 "nbformat": 4,
 "nbformat_minor": 4
}

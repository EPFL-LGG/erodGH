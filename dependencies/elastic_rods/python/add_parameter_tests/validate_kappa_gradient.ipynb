{
 "cells": [
  {
   "cell_type": "markdown",
   "metadata": {},
   "source": [
    "## Validate the Gradient for Rest Geodesic Kappa "
   ]
  },
  {
   "cell_type": "code",
   "execution_count": null,
   "metadata": {},
   "outputs": [],
   "source": [
    "elastic_rods_dir = '../'\n",
    "weaving_dir = '../../../Weaving/'\n",
    "import os.path as osp\n",
    "import sys; sys.path.append(elastic_rods_dir); sys.path.append(weaving_dir)\n",
    "import numpy as np, elastic_rods, linkage_vis\n",
    "import numpy.linalg as la\n",
    "from bending_validation import suppress_stdout as so\n",
    "import matplotlib.pyplot as plt\n",
    "from linkage_utils import order_segments_by_ribbons\n",
    "\n",
    "# Reloadable libraries\n",
    "import analysis_helper, importlib\n",
    "importlib.reload(analysis_helper)\n",
    "from analysis_helper import construct_elastic_rod_loop_from_rod_segments"
   ]
  },
  {
   "cell_type": "markdown",
   "metadata": {},
   "source": [
    "### Use the sphere weaving model to get the rod test sample"
   ]
  },
  {
   "cell_type": "code",
   "execution_count": null,
   "metadata": {},
   "outputs": [],
   "source": [
    "# Sphere Parameters\n",
    "default_camera_parameters = ((3.466009282140468, -4.674139805388271, -2.556131049738206), (-0.21402574298422497, -0.06407538766530313, -0.9747681088523519),(0.1111, 0.1865, 0.5316))\n",
    "RIBBON_CS = [1, 10]\n",
    "ISO_CS = [4, 4]\n",
    "MODEL_PATH = osp.join(weaving_dir, 'models/equal_edge_atI.obj')\n",
    "SUBDIVISION_RESOLUTION = 5"
   ]
  },
  {
   "cell_type": "code",
   "execution_count": null,
   "metadata": {},
   "outputs": [],
   "source": [
    "with so():\n",
    "    dodecahedron_linkage = elastic_rods.RodLinkage(MODEL_PATH, SUBDIVISION_RESOLUTION, False)\n",
    "    driver=dodecahedron_linkage.centralJoint()\n",
    "    dodecahedron_linkage.setMaterial(elastic_rods.RodMaterial('rectangle', 2000, 0.3, RIBBON_CS, stiffAxis=elastic_rods.StiffAxis.D1))\n",
    "#     restlen_solve is broken until the design parameter refactoring is done.\n",
    "    # elastic_rods.restlen_solve(dodecahedron_linkage)\n",
    "    jdo = dodecahedron_linkage.dofOffsetForJoint(driver)\n",
    "    fixedVars = list(range(jdo, jdo + 6)) # fix rigid motion for a single joint\n",
    "    elastic_rods.compute_equilibrium(dodecahedron_linkage, fixedVars=fixedVars)\n",
    "    dodecahedron_view = linkage_vis.LinkageViewer(dodecahedron_linkage, width=1024, height=640)\n",
    "    dodecahedron_view.setCameraParams(default_camera_parameters)\n",
    "# dodecahedron_view.show()"
   ]
  },
  {
   "cell_type": "code",
   "execution_count": null,
   "metadata": {},
   "outputs": [],
   "source": [
    "strips = order_segments_by_ribbons(dodecahedron_linkage)\n",
    "new_rod, fixedVars = construct_elastic_rod_loop_from_rod_segments(dodecahedron_linkage, strips[0])\n",
    "# Set the material of the new rod to be the same as previously.\n",
    "new_rod.setMaterial(elastic_rods.RodMaterial('rectangle', 2000, 0.3, RIBBON_CS, stiffAxis=elastic_rods.StiffAxis.D1))\n",
    "single_rod_view = linkage_vis.LinkageViewer(new_rod, width=1024, height=640)\n",
    "with so():\n",
    "    elastic_rods.compute_equilibrium(new_rod, fixedVars=fixedVars)\n",
    "single_rod_view.setCameraParams(default_camera_parameters)\n",
    "single_rod_view.show()"
   ]
  },
  {
   "cell_type": "markdown",
   "metadata": {},
   "source": [
    "### Compute the difference between the gradient and the finite difference approximation"
   ]
  },
  {
   "cell_type": "code",
   "execution_count": null,
   "metadata": {},
   "outputs": [],
   "source": [
    "new_rod.bendingEnergyType = elastic_rods.BendingEnergyType.Bergou2010"
   ]
  },
  {
   "cell_type": "code",
   "execution_count": null,
   "metadata": {},
   "outputs": [],
   "source": [
    "# Gradient test\n",
    "grad = new_rod.gradEnergyBend(variableDesignParameters = True)\n",
    "curr_energy_type = elastic_rods.EnergyType.Bend\n",
    "energy = new_rod.energy(energyType = curr_energy_type)\n",
    "prevDof = new_rod.getExtendedDoFs()\n",
    "experiment_steps = np.logspace(np.log10(1e-9), np.log10(1e-2), num = 100)\n",
    "def experiment_in_diff_direction():\n",
    "    random_direction = np.random.normal(0, 1, len(grad))\n",
    "    direction = random_direction * (la.norm(np.array(grad)) / la.norm(random_direction))\n",
    "    def get_difference_in_gradient(stepSize):\n",
    "        new_rod.setExtendedDoFs(prevDof + stepSize * direction)\n",
    "        energy_with_pos_step = new_rod.energy(curr_energy_type)\n",
    "\n",
    "        new_rod.setExtendedDoFs(prevDof - stepSize * direction)\n",
    "        energy_with_neg_step = new_rod.energy(curr_energy_type)\n",
    "\n",
    "        fd_approx = (energy_with_pos_step - energy_with_neg_step) / (2 * stepSize)\n",
    "        gradient_dot = np.dot(direction, grad)\n",
    "        return abs(fd_approx - gradient_dot)\n",
    "\n",
    "    epsilon_list = [get_difference_in_gradient(step_size) for step_size in experiment_steps]\n",
    "    plt.plot(experiment_steps, epsilon_list)\n",
    "\n",
    "fig = plt.figure()\n",
    "ax = fig.add_subplot(1, 1, 1)\n",
    "ax.set_xscale('log')\n",
    "ax.set_yscale('log')\n",
    "plt.xlabel('Decreasing Step Size')\n",
    "plt.ylabel('Error')\n",
    "plt.grid()\n",
    "# ax.invert_xaxis()\n",
    "for i in range(1):\n",
    "    experiment_in_diff_direction()\n",
    "\n",
    "plt.savefig('gradient_validation.png', dpi = 300)\n",
    "new_rod.setExtendedDoFs(prevDof)"
   ]
  }
 ],
 "metadata": {
  "kernelspec": {
   "display_name": "Python 3",
   "language": "python",
   "name": "python3"
  },
  "language_info": {
   "codemirror_mode": {
    "name": "ipython",
    "version": 3
   },
   "file_extension": ".py",
   "mimetype": "text/x-python",
   "name": "python",
   "nbconvert_exporter": "python",
   "pygments_lexer": "ipython3",
   "version": "3.9.4"
  }
 },
 "nbformat": 4,
 "nbformat_minor": 4
}
